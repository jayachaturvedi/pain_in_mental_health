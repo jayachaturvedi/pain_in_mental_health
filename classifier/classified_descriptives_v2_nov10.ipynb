{
  "cells": [
    {
      "cell_type": "markdown",
      "id": "eecf823c",
      "metadata": {
        "id": "eecf823c"
      },
      "source": [
        "Import packages"
      ]
    },
    {
      "cell_type": "code",
      "execution_count": null,
      "id": "73f3eeda",
      "metadata": {
        "id": "73f3eeda"
      },
      "outputs": [],
      "source": [
        "import os\n",
        "import pandas as pd\n",
        "import numpy as np"
      ]
    },
    {
      "cell_type": "markdown",
      "id": "086b0f53",
      "metadata": {
        "id": "086b0f53"
      },
      "source": [
        "Import the different csvs that have the classified sentences as different dataframes"
      ]
    },
    {
      "cell_type": "code",
      "execution_count": null,
      "id": "d60459e9",
      "metadata": {
        "id": "d60459e9"
      },
      "outputs": [],
      "source": [
        "df1 = pd.read_csv('./pain_sentences_classified/pain_sentences_classified_sapbert_first_2k.csv')\n",
        "df2 = pd.read_csv('./pain_sentences_classified/pain_sentences_classified_sapbert_2k_to_5k.csv')\n",
        "df3 = pd.read_csv('./pain_sentences_classified/pain_sentences_classified_sapbert_5k_to_8k.csv')\n",
        "df4 = pd.read_csv('./pain_sentences_classified/pain_sentences_classified_sapbert_8k_to_10k.csv')\n",
        "df5 = pd.read_csv('./pain_sentences_classified/pain_sentences_classified_sapbert_10k_to_20k.csv')"
      ]
    },
    {
      "cell_type": "markdown",
      "source": [
        "prepare the dataframes for concatenation"
      ],
      "metadata": {
        "id": "Tg70skY3FxND"
      },
      "id": "Tg70skY3FxND"
    },
    {
      "cell_type": "code",
      "execution_count": null,
      "id": "d164333c",
      "metadata": {
        "id": "d164333c"
      },
      "outputs": [],
      "source": [
        "frames = [df1, df2, df3, df4, df5]"
      ]
    },
    {
      "cell_type": "markdown",
      "source": [
        "concatenate them into a single dataframe"
      ],
      "metadata": {
        "id": "VMV79XR3Fzs7"
      },
      "id": "VMV79XR3Fzs7"
    },
    {
      "cell_type": "code",
      "execution_count": null,
      "id": "1bb34088",
      "metadata": {
        "id": "1bb34088"
      },
      "outputs": [],
      "source": [
        "df = pd.concat(frames)"
      ]
    },
    {
      "cell_type": "markdown",
      "source": [
        "take a look at the first 5 rows and describe the dataframe"
      ],
      "metadata": {
        "id": "qZEczS_kF3Ud"
      },
      "id": "qZEczS_kF3Ud"
    },
    {
      "cell_type": "code",
      "execution_count": null,
      "id": "0f4e79d7",
      "metadata": {
        "id": "0f4e79d7"
      },
      "outputs": [],
      "source": [
        "df.head()"
      ]
    },
    {
      "cell_type": "code",
      "execution_count": null,
      "id": "907085cc",
      "metadata": {
        "id": "907085cc"
      },
      "outputs": [],
      "source": [
        "df.describe()"
      ]
    },
    {
      "cell_type": "markdown",
      "source": [
        "save dataframe as csv"
      ],
      "metadata": {
        "id": "1aY6f5GGF8_u"
      },
      "id": "1aY6f5GGF8_u"
    },
    {
      "cell_type": "code",
      "execution_count": null,
      "id": "bb4ddffe",
      "metadata": {
        "id": "bb4ddffe"
      },
      "outputs": [],
      "source": [
        "df.to_csv('./combined_pain_sentences_classified.csv')"
      ]
    },
    {
      "cell_type": "markdown",
      "source": [
        "look at some counts - keywords, predicted classes, document types"
      ],
      "metadata": {
        "id": "9x_uUFG9F-6I"
      },
      "id": "9x_uUFG9F-6I"
    },
    {
      "cell_type": "code",
      "execution_count": null,
      "id": "9ef39096",
      "metadata": {
        "id": "9ef39096"
      },
      "outputs": [],
      "source": [
        "df['kw'].value_counts(normalize=True)"
      ]
    },
    {
      "cell_type": "code",
      "execution_count": null,
      "id": "98fd3658",
      "metadata": {
        "id": "98fd3658"
      },
      "outputs": [],
      "source": [
        "df['preds'].value_counts(normalize=True)"
      ]
    },
    {
      "cell_type": "code",
      "execution_count": null,
      "id": "a915864a",
      "metadata": {
        "id": "a915864a"
      },
      "outputs": [],
      "source": [
        "df['doc_type'].value_counts(normalize=True)"
      ]
    },
    {
      "cell_type": "markdown",
      "id": "121c3875",
      "metadata": {
        "id": "121c3875"
      },
      "source": [
        "demographics have been added to the above file outside of python"
      ]
    },
    {
      "cell_type": "code",
      "execution_count": null,
      "id": "d4317236",
      "metadata": {
        "id": "d4317236"
      },
      "outputs": [],
      "source": [
        "#load classified sentences with demographics\n",
        "\n",
        "df_demo = pd.read_csv('./combined_pain_sentences_classified_with_demographics.csv')"
      ]
    },
    {
      "cell_type": "markdown",
      "source": [
        "describe the dataframe and look at the first 5 rows"
      ],
      "metadata": {
        "id": "vOvh2G_IGFIC"
      },
      "id": "vOvh2G_IGFIC"
    },
    {
      "cell_type": "code",
      "execution_count": null,
      "id": "261b5f90",
      "metadata": {
        "id": "261b5f90"
      },
      "outputs": [],
      "source": [
        "df_demo.describe()"
      ]
    },
    {
      "cell_type": "code",
      "execution_count": null,
      "id": "094dbc7d",
      "metadata": {
        "id": "094dbc7d"
      },
      "outputs": [],
      "source": [
        "df_demo.head()"
      ]
    },
    {
      "cell_type": "markdown",
      "source": [
        "rename columns as required"
      ],
      "metadata": {
        "id": "QO9Jj54UGKV6"
      },
      "id": "QO9Jj54UGKV6"
    },
    {
      "cell_type": "code",
      "execution_count": null,
      "id": "a6371d23",
      "metadata": {
        "id": "a6371d23"
      },
      "outputs": [],
      "source": [
        "df_demo = df_demo.rename(columns={\"ethnicity\": \"gender\", \"gender\": \"ethnicity\"})"
      ]
    },
    {
      "cell_type": "markdown",
      "source": [
        "look at some counts - predicted classes, gender, ethnicity"
      ],
      "metadata": {
        "id": "odGAvIisGMcS"
      },
      "id": "odGAvIisGMcS"
    },
    {
      "cell_type": "code",
      "execution_count": null,
      "id": "aff28414",
      "metadata": {
        "id": "aff28414"
      },
      "outputs": [],
      "source": [
        "df_demo['preds'].value_counts(normalize=True)"
      ]
    },
    {
      "cell_type": "code",
      "execution_count": null,
      "id": "ff14d057",
      "metadata": {
        "id": "ff14d057"
      },
      "outputs": [],
      "source": [
        "df_demo['gender'].value_counts(normalize=True)"
      ]
    },
    {
      "cell_type": "code",
      "execution_count": null,
      "id": "79eb5ec3",
      "metadata": {
        "id": "79eb5ec3"
      },
      "outputs": [],
      "source": [
        "df_demo['ethnicity'].value_counts(normalize=True)"
      ]
    },
    {
      "cell_type": "markdown",
      "source": [
        "clean up the labels for ethnicity"
      ],
      "metadata": {
        "id": "BrojSwfaGQXU"
      },
      "id": "BrojSwfaGQXU"
    },
    {
      "cell_type": "code",
      "execution_count": null,
      "id": "f79885d0",
      "metadata": {
        "id": "f79885d0"
      },
      "outputs": [],
      "source": [
        "df_demo.loc[df_demo['ethnicity'] == 'A. White - British', 'ethnicity'] = 'White - British, Irish, Other'\n",
        "df_demo.loc[df_demo['ethnicity'] == 'C. White – Other', 'ethnicity'] = 'White - British, Irish, Other'\n",
        "df_demo.loc[df_demo['ethnicity'] == 'B. White - Irish', 'ethnicity'] = 'White - British, Irish, Other'\n",
        "df_demo.loc[df_demo['ethnicity'] == 'C. White – Gyp/Irish Traveller', 'ethnicity'] = 'White - British, Irish, Other'\n",
        "df_demo.loc[df_demo['ethnicity'] == 'P. Black/Black British - Other', 'ethnicity'] = 'Black - British, African, Caribbean, Other'\n",
        "df_demo.loc[df_demo['ethnicity'] == 'N. Blk/Blk British - African', 'ethnicity'] = 'Black - British, African, Caribbean, Other'\n",
        "df_demo.loc[df_demo['ethnicity'] == 'M. Blk/Blk Brit - Caribbean', 'ethnicity'] = 'Black - British, African, Caribbean, Other'\n",
        "df_demo.loc[df_demo['ethnicity'] == 'S. Other ethnic group – Other', 'ethnicity'] = 'Other ethnic group'\n",
        "df_demo.loc[df_demo['ethnicity'] == 'S. Other ethnic group - Arab', 'ethnicity'] = 'Other ethnic group'\n",
        "df_demo.loc[df_demo['ethnicity'] == 'Z. Not Stated', 'ethnicity'] = 'Not stated/Not known'\n",
        "df_demo.loc[df_demo['ethnicity'] == 'S. Asian/Asian British – Other', 'ethnicity'] = 'Asian - British, Chinese, Indian, Pakistani, Bangladeshi, Other'\n",
        "df_demo.loc[df_demo['ethnicity'] == 'H. Asn/Asn Brit - Indian', 'ethnicity'] = 'Asian - British, Chinese, Indian, Pakistani, Bangladeshi, Other'\n",
        "df_demo.loc[df_demo['ethnicity'] == 'J. Asn/Asn Brit - Pakistani', 'ethnicity'] = 'Asian - British, Chinese, Indian, Pakistani, Bangladeshi, Other'\n",
        "df_demo.loc[df_demo['ethnicity'] == 'K. Asn/Asn Brit - Bangladeshi', 'ethnicity'] = 'Asian - British, Chinese, Indian, Pakistani, Bangladeshi, Other'\n",
        "df_demo.loc[df_demo['ethnicity'] == 'R. Asn/Asn Brit – Chinese', 'ethnicity'] = 'Asian - British, Chinese, Indian, Pakistani, Bangladeshi, Other'\n",
        "df_demo.loc[df_demo['ethnicity'] == 'D. Mixed Race - W&B Carib', 'ethnicity'] = 'Mixed Race'\n",
        "df_demo.loc[df_demo['ethnicity'] == 'G. Mixed Race - Other', 'ethnicity'] = 'Mixed Race'\n",
        "df_demo.loc[df_demo['ethnicity'] == 'E. Mixed Race - W&B African', 'ethnicity'] = 'Mixed Race'\n",
        "df_demo.loc[df_demo['ethnicity'] == 'F. Mixed Race - Wte and Asn', 'ethnicity'] = 'Mixed Race'"
      ]
    },
    {
      "cell_type": "markdown",
      "source": [
        "look at more counts - ethnicity, diagnosis, age description"
      ],
      "metadata": {
        "id": "ma4Mc7mgGUrn"
      },
      "id": "ma4Mc7mgGUrn"
    },
    {
      "cell_type": "code",
      "execution_count": null,
      "id": "d455d2ee",
      "metadata": {
        "id": "d455d2ee"
      },
      "outputs": [],
      "source": [
        "df_demo['ethnicity'].value_counts(normalize=True)"
      ]
    },
    {
      "cell_type": "code",
      "execution_count": null,
      "id": "2fe9b858",
      "metadata": {
        "id": "2fe9b858"
      },
      "outputs": [],
      "source": [
        "df_demo['diagnosis_chapter'].value_counts(normalize=True)"
      ]
    },
    {
      "cell_type": "code",
      "execution_count": null,
      "id": "9864fa38",
      "metadata": {
        "id": "9864fa38"
      },
      "outputs": [],
      "source": [
        "df_demo['age'].describe()"
      ]
    },
    {
      "cell_type": "code",
      "execution_count": null,
      "id": "395905e3",
      "metadata": {
        "id": "395905e3"
      },
      "outputs": [],
      "source": []
    }
  ],
  "metadata": {
    "kernelspec": {
      "display_name": "Python 3 (ipykernel)",
      "language": "python",
      "name": "python3"
    },
    "language_info": {
      "codemirror_mode": {
        "name": "ipython",
        "version": 3
      },
      "file_extension": ".py",
      "mimetype": "text/x-python",
      "name": "python",
      "nbconvert_exporter": "python",
      "pygments_lexer": "ipython3",
      "version": "3.8.5"
    },
    "colab": {
      "provenance": []
    }
  },
  "nbformat": 4,
  "nbformat_minor": 5
}