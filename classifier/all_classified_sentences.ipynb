{
  "cells": [
    {
      "cell_type": "markdown",
      "id": "9d9c23f1-5766-4520-85ce-25914afa022a",
      "metadata": {
        "id": "9d9c23f1-5766-4520-85ce-25914afa022a"
      },
      "source": [
        "combining all the files that contain classified sentences"
      ]
    },
    {
      "cell_type": "code",
      "execution_count": null,
      "id": "1bda960c-7e79-43f2-9a09-680116312e68",
      "metadata": {
        "id": "1bda960c-7e79-43f2-9a09-680116312e68"
      },
      "outputs": [],
      "source": [
        "# Import required packages\n",
        "\n",
        "import pandas as pd"
      ]
    },
    {
      "cell_type": "code",
      "execution_count": null,
      "id": "d7d7775c-0180-4998-aecb-4a23f47dc65d",
      "metadata": {
        "id": "d7d7775c-0180-4998-aecb-4a23f47dc65d"
      },
      "outputs": [],
      "source": [
        "# print current directory location\n",
        "\n",
        "!pwd"
      ]
    },
    {
      "cell_type": "code",
      "execution_count": null,
      "id": "fd63c1b4-d048-4390-a1c2-c0dfd313f562",
      "metadata": {
        "id": "fd63c1b4-d048-4390-a1c2-c0dfd313f562"
      },
      "outputs": [],
      "source": [
        "# Prefix of the files\n",
        "\n",
        "filename = \"pain_sentences_classified_sapbert_CE_\""
      ]
    },
    {
      "cell_type": "code",
      "execution_count": null,
      "id": "2ad55706-21a4-48b7-8ccf-d9eb464bd194",
      "metadata": {
        "id": "2ad55706-21a4-48b7-8ccf-d9eb464bd194"
      },
      "outputs": [],
      "source": [
        "# Import all the files and save as dataframes\n",
        "\n",
        "df1 = pd.read_csv(filename+\"first2k.csv\")\n",
        "df2 = pd.read_csv(filename+\"2k_to_5k.csv\")\n",
        "df3 = pd.read_csv(filename+\"5k_to_8k.csv\")\n",
        "df4 = pd.read_csv(filename+\"8k_to_10k.csv\")\n",
        "df5 = pd.read_csv(filename+\"10k_to_20k.csv\")\n",
        "df6 = pd.read_csv(filename+\"20k_to_30k.csv\")\n",
        "df7 = pd.read_csv(filename+\"30k_to_40k.csv\")\n",
        "df8 = pd.read_csv(filename+\"40k_to_50k.csv\")\n",
        "df9 = pd.read_csv(filename+\"50k_to_60k.csv\")\n",
        "df10 = pd.read_csv(filename+\"60k_to_70k.csv\")\n",
        "df11 = pd.read_csv(filename+\"70k_to_80k.csv\")\n",
        "df12 = pd.read_csv(filename+\"80k_to_90k.csv\")\n",
        "df13 = pd.read_csv(filename+\"90k_to_100k.csv\")\n",
        "df14 = pd.read_csv(filename+\"100k_to_110k.csv\")\n",
        "df15 = pd.read_csv(filename+\"110k_to_120k.csv\")\n",
        "df16 = pd.read_csv(filename+\"120k_to_130k.csv\")\n",
        "df17 = pd.read_csv(filename+\"130k_to_140k.csv\")\n",
        "df18 = pd.read_csv(filename+\"140k_to_150k.csv\")\n",
        "df19 = pd.read_csv(filename+\"150k_to_160k.csv\")\n",
        "df20 = pd.read_csv(filename+\"160k_to_174k.csv\")\n"
      ]
    },
    {
      "cell_type": "code",
      "execution_count": null,
      "id": "06e8c1d8-2b2b-4028-973e-7f052eaa5b19",
      "metadata": {
        "id": "06e8c1d8-2b2b-4028-973e-7f052eaa5b19"
      },
      "outputs": [],
      "source": [
        "# prepare the dataframes for concatenation\n",
        "\n",
        "frames = [df1, df2, df3, df4, df5, df6, df7, df8, df9, df10, df11, df12, df13, df14, df15, df16, df17, df18, df19, df20]"
      ]
    },
    {
      "cell_type": "code",
      "execution_count": null,
      "id": "b292076b-85d1-4815-b407-4ec1e652c92d",
      "metadata": {
        "id": "b292076b-85d1-4815-b407-4ec1e652c92d"
      },
      "outputs": [],
      "source": [
        "# concatenate the dataframes\n",
        "\n",
        "result = pd.concat(frames)"
      ]
    },
    {
      "cell_type": "code",
      "execution_count": null,
      "id": "ed3b8ceb-709c-4515-957f-f995755f5b7c",
      "metadata": {
        "id": "ed3b8ceb-709c-4515-957f-f995755f5b7c"
      },
      "outputs": [],
      "source": [
        "# Take a look at the first 5 rows of the final dataframe that contains all the concatenated dataframes\n",
        "\n",
        "result.head()"
      ]
    },
    {
      "cell_type": "code",
      "execution_count": null,
      "id": "896b9380-0fa8-4698-8175-1a1dd902ffcd",
      "metadata": {
        "id": "896b9380-0fa8-4698-8175-1a1dd902ffcd"
      },
      "outputs": [],
      "source": [
        "# convert final dataframe to csv\n",
        "\n",
        "result.to_csv('all_classified_pain_sentences_sapbert_CE.csv')"
      ]
    },
    {
      "cell_type": "markdown",
      "id": "75b6a95a-0246-4920-af4c-48dfd6482d5d",
      "metadata": {
        "id": "75b6a95a-0246-4920-af4c-48dfd6482d5d"
      },
      "source": [
        "Load all classified sentences and analyse"
      ]
    },
    {
      "cell_type": "code",
      "execution_count": null,
      "id": "82442547-13eb-41ed-9f3a-fe24a25d1980",
      "metadata": {
        "id": "82442547-13eb-41ed-9f3a-fe24a25d1980"
      },
      "outputs": [],
      "source": [
        "# load the csv as a dataframe\n",
        "\n",
        "df = pd.read_csv('all_classified_pain_sentences_sapbert_CE.csv')"
      ]
    },
    {
      "cell_type": "code",
      "execution_count": null,
      "id": "ba25f097-58d0-4118-be88-130efea10d40",
      "metadata": {
        "id": "ba25f097-58d0-4118-be88-130efea10d40"
      },
      "outputs": [],
      "source": [
        "# Take a look at first 5 rows\n",
        "\n",
        "df.head()"
      ]
    },
    {
      "cell_type": "code",
      "execution_count": null,
      "id": "5182223e-3aad-4c0d-b0c1-2609c199963d",
      "metadata": {
        "id": "5182223e-3aad-4c0d-b0c1-2609c199963d"
      },
      "outputs": [],
      "source": [
        "# Drop any unnecessary columns\n",
        "\n",
        "df = df.drop(columns=['Unnamed: 0.1', 'Unnamed: 0'])"
      ]
    },
    {
      "cell_type": "code",
      "execution_count": null,
      "id": "9f66d500-0c09-4899-bcaa-92abc3347f33",
      "metadata": {
        "id": "9f66d500-0c09-4899-bcaa-92abc3347f33"
      },
      "outputs": [],
      "source": [
        "# Take a look at first 5 rows\n",
        "\n",
        "df.head()"
      ]
    },
    {
      "cell_type": "code",
      "execution_count": null,
      "id": "7ef53790-de05-45f9-8c85-adf44453538f",
      "metadata": {
        "id": "7ef53790-de05-45f9-8c85-adf44453538f"
      },
      "outputs": [],
      "source": [
        "# Describe the dataframe\n",
        "\n",
        "df.describe()"
      ]
    },
    {
      "cell_type": "code",
      "execution_count": null,
      "id": "ac1b39df-33d3-420c-b762-07b0452fe31e",
      "metadata": {
        "id": "ac1b39df-33d3-420c-b762-07b0452fe31e"
      },
      "outputs": [],
      "source": [
        "# Get a count of the 2 predicted classes, normalised i.e. percentages\n",
        "\n",
        "df['preds'].value_counts(normalize=True)"
      ]
    },
    {
      "cell_type": "code",
      "execution_count": null,
      "id": "21ff4553-3c64-42b9-98d1-04113b5d5220",
      "metadata": {
        "id": "21ff4553-3c64-42b9-98d1-04113b5d5220"
      },
      "outputs": [],
      "source": [
        "# Get a count of the 2 predicted classes\n",
        "\n",
        "df['preds'].value_counts()"
      ]
    },
    {
      "cell_type": "markdown",
      "id": "ef1e8caa-2c1b-43b0-93f0-3d9dd57bf728",
      "metadata": {
        "id": "ef1e8caa-2c1b-43b0-93f0-3d9dd57bf728"
      },
      "source": [
        "save all class 1 as separate dataframe and csv"
      ]
    },
    {
      "cell_type": "code",
      "execution_count": null,
      "id": "79143354-43c8-40e9-afa1-098ae1b7184c",
      "metadata": {
        "id": "79143354-43c8-40e9-afa1-098ae1b7184c"
      },
      "outputs": [],
      "source": [
        "# save all sentences predicted as 1 i.e. relevant pain into a separate dataframe\n",
        "\n",
        "df_pain = df.loc[(df['preds'] == 1)]"
      ]
    },
    {
      "cell_type": "code",
      "execution_count": null,
      "id": "173afc16-824d-4ac1-95b0-08f637941806",
      "metadata": {
        "id": "173afc16-824d-4ac1-95b0-08f637941806"
      },
      "outputs": [],
      "source": [
        "# take a look at first 5 rows\n",
        "\n",
        "df_pain.head()"
      ]
    },
    {
      "cell_type": "code",
      "execution_count": null,
      "id": "8d6ad31f-a6bd-49a5-ac90-07c9a4583562",
      "metadata": {
        "id": "8d6ad31f-a6bd-49a5-ac90-07c9a4583562"
      },
      "outputs": [],
      "source": [
        "# describe the dataframe\n",
        "\n",
        "df_pain.describe()"
      ]
    },
    {
      "cell_type": "code",
      "execution_count": null,
      "id": "8669e342-3431-4bdd-974e-215ab93443e4",
      "metadata": {
        "id": "8669e342-3431-4bdd-974e-215ab93443e4"
      },
      "outputs": [],
      "source": [
        "#save as csv\n",
        "\n",
        "df_pain.to_csv('classified_as_pain_sapbert_CE.csv')"
      ]
    },
    {
      "cell_type": "markdown",
      "id": "72e46ebc-c93a-4625-bd09-22e61b9e0499",
      "metadata": {
        "id": "72e46ebc-c93a-4625-bd09-22e61b9e0499"
      },
      "source": [
        "analyse df of classified sentences"
      ]
    },
    {
      "cell_type": "code",
      "execution_count": null,
      "id": "8f3ec0bf-03fb-42ff-a677-a0a3a1869eb6",
      "metadata": {
        "id": "8f3ec0bf-03fb-42ff-a677-a0a3a1869eb6"
      },
      "outputs": [],
      "source": [
        "# take a look at first 5 rows\n",
        "\n",
        "df.head()"
      ]
    },
    {
      "cell_type": "code",
      "execution_count": null,
      "id": "d2e93f06-faa1-43b5-a60e-23fc21b3a70d",
      "metadata": {
        "id": "d2e93f06-faa1-43b5-a60e-23fc21b3a70d"
      },
      "outputs": [],
      "source": [
        "# get percentage of the different document types, like attachments and events\n",
        "\n",
        "df['doc_type'].value_counts(normalize=True)"
      ]
    },
    {
      "cell_type": "code",
      "execution_count": null,
      "id": "9a57a5e0-210c-4506-a025-2d4ccc42c10b",
      "metadata": {
        "id": "9a57a5e0-210c-4506-a025-2d4ccc42c10b"
      },
      "outputs": [],
      "source": [
        "# get percentage of the different keywords like pain, ache, sore\n",
        "\n",
        "df['kw'].value_counts(normalize=True)"
      ]
    },
    {
      "cell_type": "code",
      "execution_count": null,
      "id": "792e718f-e5c6-4a7d-bb5a-d1905ea60a98",
      "metadata": {
        "id": "792e718f-e5c6-4a7d-bb5a-d1905ea60a98"
      },
      "outputs": [],
      "source": [
        "# import packages for plotting graphs\n",
        "\n",
        "import seaborn as sns\n",
        "import matplotlib.pyplot as plt\n",
        "%matplotlib inline"
      ]
    },
    {
      "cell_type": "code",
      "execution_count": null,
      "id": "596fc15d-8447-481e-b83b-8de3d2bdcd1e",
      "metadata": {
        "id": "596fc15d-8447-481e-b83b-8de3d2bdcd1e"
      },
      "outputs": [],
      "source": [
        "#get length of sentences in dataframe and plot them\n",
        "\n",
        "lns = df.clean_text.str.len().tolist()\n",
        "sns.distplot(lns, kde=False, axlabel=\"Document Lenght\")\n",
        "plt.show()"
      ]
    },
    {
      "cell_type": "code",
      "execution_count": null,
      "id": "4026e3e1-a36d-49ef-b8fe-c00cd56823c0",
      "metadata": {
        "id": "4026e3e1-a36d-49ef-b8fe-c00cd56823c0"
      },
      "outputs": [],
      "source": [
        "lns = sorted(lns) #sort lengths\n",
        "rm_size = int(len(lns)/100)*5 #take 5% as removal size\n",
        "\n",
        "#plot with removal of most and least frequent\n",
        "sns.distplot(lns[rm_size:-rm_size], kde=False, axlabel=\"Document Lenght\")\n",
        "plt.show()"
      ]
    },
    {
      "cell_type": "code",
      "execution_count": null,
      "id": "0802510d-6a60-4a90-9015-173aeac77c9c",
      "metadata": {
        "id": "0802510d-6a60-4a90-9015-173aeac77c9c"
      },
      "outputs": [],
      "source": [
        "# calculate documents per patient and plot them\n",
        "\n",
        "sns.distplot(df['BrcId'].value_counts().values, kde=False, axlabel=\"Documents per patient\")\n",
        "plt.xlim(0, 80)\n",
        "plt.show()"
      ]
    },
    {
      "cell_type": "code",
      "execution_count": null,
      "id": "61e176d3-6b74-4a77-af68-8b8bce50c5c1",
      "metadata": {
        "id": "61e176d3-6b74-4a77-af68-8b8bce50c5c1"
      },
      "outputs": [],
      "source": [
        "#number of patients\n",
        "\n",
        "df['BrcId'].nunique()"
      ]
    },
    {
      "cell_type": "code",
      "execution_count": null,
      "id": "87140c59-4f06-46ed-97e7-ee3ca39d28be",
      "metadata": {
        "id": "87140c59-4f06-46ed-97e7-ee3ca39d28be"
      },
      "outputs": [],
      "source": []
    }
  ],
  "metadata": {
    "kernelspec": {
      "display_name": "Python 3 (ipykernel)",
      "language": "python",
      "name": "python3"
    },
    "language_info": {
      "codemirror_mode": {
        "name": "ipython",
        "version": 3
      },
      "file_extension": ".py",
      "mimetype": "text/x-python",
      "name": "python",
      "nbconvert_exporter": "python",
      "pygments_lexer": "ipython3",
      "version": "3.10.5"
    },
    "colab": {
      "provenance": []
    }
  },
  "nbformat": 4,
  "nbformat_minor": 5
}