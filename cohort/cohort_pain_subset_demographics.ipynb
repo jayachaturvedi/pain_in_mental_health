{
  "cells": [
    {
      "cell_type": "markdown",
      "metadata": {
        "id": "yKBSuNbccYAC"
      },
      "source": [
        "Imports"
      ]
    },
    {
      "cell_type": "code",
      "execution_count": null,
      "metadata": {
        "id": "gdCxpuyPcYAF"
      },
      "outputs": [],
      "source": [
        "import pandas as pd\n",
        "import numpy as np\n",
        "\n",
        "import os\n",
        "\n",
        "import matplotlib.pyplot as plt\n",
        "from matplotlib.ticker import StrMethodFormatter\n",
        "%matplotlib inline\n",
        "\n",
        "import seaborn as sns\n",
        "\n",
        "import warnings\n",
        "warnings.filterwarnings(\"ignore\")\n",
        "\n",
        "import datetime\n",
        "from datetime import datetime\n",
        "from datetime import date\n",
        "today = datetime.today()"
      ]
    },
    {
      "cell_type": "markdown",
      "metadata": {
        "id": "jARoIeqIcYAG"
      },
      "source": [
        "Load data"
      ]
    },
    {
      "cell_type": "code",
      "execution_count": null,
      "metadata": {
        "id": "96ztOhOwcYAH"
      },
      "outputs": [],
      "source": [
        "path = \"Jaya Chaturvedi/13_Pain/cohort/\""
      ]
    },
    {
      "cell_type": "code",
      "execution_count": null,
      "metadata": {
        "id": "6KS4HecdcYAH"
      },
      "outputs": [],
      "source": [
        "#df = pd.read_csv(path+\"cohort_pain_subset_sentences_oct2022.csv\")\n",
        "\n",
        "df = pd.read_csv(path+\"pain_sentences_cohort_pivoted_for_demographics_v2.csv\")"
      ]
    },
    {
      "cell_type": "code",
      "execution_count": null,
      "metadata": {
        "id": "Vz8o5hyOcYAI"
      },
      "outputs": [],
      "source": [
        "df.head()"
      ]
    },
    {
      "cell_type": "code",
      "execution_count": null,
      "metadata": {
        "id": "d90zc2LecYAI"
      },
      "outputs": [],
      "source": [
        "df.info()"
      ]
    },
    {
      "cell_type": "code",
      "execution_count": null,
      "metadata": {
        "id": "MiCm_isBcYAJ",
        "outputId": "ddd732b5-6bd3-44dd-a1f3-32f3545bf969"
      },
      "outputs": [
        {
          "data": {
            "text/plain": [
              "18190"
            ]
          },
          "execution_count": 6,
          "metadata": {},
          "output_type": "execute_result"
        }
      ],
      "source": [
        "df['BrcId'].nunique()"
      ]
    },
    {
      "cell_type": "code",
      "execution_count": null,
      "metadata": {
        "id": "8bZbIl6gcYAJ"
      },
      "outputs": [],
      "source": [
        "print(df.nunique())"
      ]
    },
    {
      "cell_type": "code",
      "execution_count": null,
      "metadata": {
        "id": "Egena7wJcYAK"
      },
      "outputs": [],
      "source": [
        "df.Gender_ID.value_counts()"
      ]
    },
    {
      "cell_type": "code",
      "execution_count": null,
      "metadata": {
        "id": "aJhCjZ2ZcYAK"
      },
      "outputs": [],
      "source": [
        "df.Gender_ID.value_counts(normalize=True)"
      ]
    },
    {
      "cell_type": "code",
      "execution_count": null,
      "metadata": {
        "id": "2S8-evjCcYAK",
        "outputId": "5807852b-b726-4912-d382-64ee67a7489f"
      },
      "outputs": [
        {
          "data": {
            "image/png": "[encoded data removed]",
            "text/plain": [
              "<Figure size 432x288 with 1 Axes>"
            ]
          },
          "metadata": {
            "needs_background": "light"
          },
          "output_type": "display_data"
        },
        {
          "data": {
            "text/plain": [
              "<Figure size 576x576 with 0 Axes>"
            ]
          },
          "metadata": {},
          "output_type": "display_data"
        },
        {
          "data": {
            "text/plain": [
              "<Figure size 432x288 with 0 Axes>"
            ]
          },
          "metadata": {},
          "output_type": "display_data"
        }
      ],
      "source": [
        "gender = pd.DataFrame({'Gender': ['Male', 'Female'], 'val': [53, 47]})\n",
        "fig = sns.barplot(x = 'val', y = 'Gender', data = gender)\n",
        "plt.xlabel(\"Percentage\")\n",
        "plt.ylabel(\"Gender\")\n",
        "plt.title(\"Gender Distribution\") # You can comment this line out if you don't need title\n",
        "plt.figure(figsize=(8, 8))\n",
        "plt.style.use('tableau-colorblind10')\n",
        "\n",
        "plt.show(fig)\n",
        "plt.savefig(path+'pain_gender_m_f.png')"
      ]
    },
    {
      "cell_type": "code",
      "execution_count": null,
      "metadata": {
        "id": "VnKGqy8rcYAL",
        "outputId": "fa6e1640-4325-4849-e03d-f9b70b54feb3"
      },
      "outputs": [
        {
          "data": {
            "image/png": "[encoded data removed]",
            "text/plain": [
              "<Figure size 432x288 with 1 Axes>"
            ]
          },
          "metadata": {
            "needs_background": "light"
          },
          "output_type": "display_data"
        },
        {
          "data": {
            "text/plain": [
              "<Figure size 576x576 with 0 Axes>"
            ]
          },
          "metadata": {},
          "output_type": "display_data"
        },
        {
          "data": {
            "text/plain": [
              "<Figure size 432x288 with 0 Axes>"
            ]
          },
          "metadata": {},
          "output_type": "display_data"
        }
      ],
      "source": [
        "df['age'].hist()\n",
        "plt.title(\"Age\")\n",
        "plt.figure(figsize=(8, 8))\n",
        "plt.style.use('tableau-colorblind10')\n",
        "\n",
        "plt.show(fig)\n",
        "plt.savefig(path+'pain_all_age.png')"
      ]
    },
    {
      "cell_type": "code",
      "execution_count": null,
      "metadata": {
        "id": "ZSJPrb10cYAL",
        "outputId": "3edd55cb-9f6a-4be4-9ef0-35e08a7afbf9"
      },
      "outputs": [
        {
          "data": {
            "text/plain": [
              "count    18190.000000\n",
              "mean        45.341836\n",
              "std         17.531014\n",
              "min         18.000000\n",
              "25%         31.000000\n",
              "50%         44.000000\n",
              "75%         56.000000\n",
              "max        100.000000\n",
              "Name: age, dtype: float64"
            ]
          },
          "execution_count": 12,
          "metadata": {},
          "output_type": "execute_result"
        }
      ],
      "source": [
        "df['age'].describe()"
      ]
    },
    {
      "cell_type": "code",
      "execution_count": null,
      "metadata": {
        "id": "jXBrec5WcYAL",
        "outputId": "c7f282d0-b3ad-41e5-aa81-6fc00404db30"
      },
      "outputs": [
        {
          "data": {
            "image/png": "[encoded data removed]",
            "text/plain": [
              "<Figure size 432x288 with 1 Axes>"
            ]
          },
          "metadata": {
            "needs_background": "light"
          },
          "output_type": "display_data"
        },
        {
          "data": {
            "text/plain": [
              "<Figure size 432x288 with 0 Axes>"
            ]
          },
          "metadata": {},
          "output_type": "display_data"
        }
      ],
      "source": [
        "plt.hist(df['age'], density=True, bins=30)  # density=False would make counts\n",
        "plt.style.use('tableau-colorblind10')\n",
        "plt.ylabel('Count')\n",
        "plt.xlabel('Age')\n",
        "plt.title('Age Distribution')\n",
        "\n",
        "plt.show(fig)\n",
        "plt.savefig(path+'pain_all_age_better.png');"
      ]
    },
    {
      "cell_type": "code",
      "execution_count": null,
      "metadata": {
        "id": "TDeWKnMpcYAL",
        "outputId": "79124edc-7461-4ac5-8e1e-fd9ff5a3d9a8"
      },
      "outputs": [
        {
          "data": {
            "text/plain": [
              "<matplotlib.axes._subplots.AxesSubplot at 0x197c0a95898>"
            ]
          },
          "execution_count": 14,
          "metadata": {},
          "output_type": "execute_result"
        },
        {
          "data": {
            "image/png": "[encoded data removed]",
            "text/plain": [
              "<Figure size 432x288 with 1 Axes>"
            ]
          },
          "metadata": {
            "needs_background": "light"
          },
          "output_type": "display_data"
        }
      ],
      "source": [
        "sns.distplot(df['age'], kde=True, bins = 10)"
      ]
    },
    {
      "cell_type": "code",
      "execution_count": null,
      "metadata": {
        "id": "5Ug6_XfEcYAM"
      },
      "outputs": [],
      "source": [
        "df['ethnicitycleaned'].value_counts()"
      ]
    },
    {
      "cell_type": "code",
      "execution_count": null,
      "metadata": {
        "id": "nCXLS4y3cYAM"
      },
      "outputs": [],
      "source": [
        "df['ethnicitycleaned'].value_counts(normalize=True)"
      ]
    },
    {
      "cell_type": "code",
      "execution_count": null,
      "metadata": {
        "id": "648e04QQcYAM"
      },
      "outputs": [],
      "source": [
        "df['ethnicitycleaned_copy_of_original'] = df['ethnicitycleaned']"
      ]
    },
    {
      "cell_type": "code",
      "execution_count": null,
      "metadata": {
        "id": "PfF3r7PIcYAM"
      },
      "outputs": [],
      "source": [
        "df.loc[df['ethnicitycleaned'] == 'A. White - British', 'ethnicitycleaned'] = 'White - British, Irish, Other'\n",
        "df.loc[df['ethnicitycleaned'] == 'C. White – Other', 'ethnicitycleaned'] = 'White - British, Irish, Other'\n",
        "df.loc[df['ethnicitycleaned'] == 'B. White - Irish', 'ethnicitycleaned'] = 'White - British, Irish, Other'\n",
        "df.loc[df['ethnicitycleaned'] == 'C. White – Gyp/Irish Traveller', 'ethnicitycleaned'] = 'White - British, Irish, Other'\n",
        "df.loc[df['ethnicitycleaned'] == 'P. Black/Black British - Other', 'ethnicitycleaned'] = 'Black - British, African, Caribbean, Other'\n",
        "df.loc[df['ethnicitycleaned'] == 'N. Blk/Blk British - African', 'ethnicitycleaned'] = 'Black - British, African, Caribbean, Other'\n",
        "df.loc[df['ethnicitycleaned'] == 'M. Blk/Blk Brit - Caribbean', 'ethnicitycleaned'] = 'Black - British, African, Caribbean, Other'\n",
        "df.loc[df['ethnicitycleaned'] == 'S. Other ethnic group – Other', 'ethnicitycleaned'] = 'Other ethnic group'\n",
        "df.loc[df['ethnicitycleaned'] == 'S. Other ethnic group - Arab', 'ethnicitycleaned'] = 'Other ethnic group'\n",
        "df.loc[df['ethnicitycleaned'] == 'Z. Not Stated', 'ethnicitycleaned'] = 'Not stated/Not known'\n",
        "df.loc[df['ethnicitycleaned'] == 'S. Asian/Asian British – Other', 'ethnicitycleaned'] = 'Asian - British, Chinese, Indian, Pakistani, Bangladeshi, Other'\n",
        "df.loc[df['ethnicitycleaned'] == 'H. Asn/Asn Brit - Indian', 'ethnicitycleaned'] = 'Asian - British, Chinese, Indian, Pakistani, Bangladeshi, Other'\n",
        "df.loc[df['ethnicitycleaned'] == 'J. Asn/Asn Brit - Pakistani', 'ethnicitycleaned'] = 'Asian - British, Chinese, Indian, Pakistani, Bangladeshi, Other'\n",
        "df.loc[df['ethnicitycleaned'] == 'K. Asn/Asn Brit - Bangladeshi', 'ethnicitycleaned'] = 'Asian - British, Chinese, Indian, Pakistani, Bangladeshi, Other'\n",
        "df.loc[df['ethnicitycleaned'] == 'R. Asn/Asn Brit – Chinese', 'ethnicitycleaned'] = 'Asian - British, Chinese, Indian, Pakistani, Bangladeshi, Other'\n",
        "df.loc[df['ethnicitycleaned'] == 'D. Mixed Race - W&B Carib', 'ethnicitycleaned'] = 'Mixed Race'\n",
        "df.loc[df['ethnicitycleaned'] == 'G. Mixed Race - Other', 'ethnicitycleaned'] = 'Mixed Race'\n",
        "df.loc[df['ethnicitycleaned'] == 'E. Mixed Race - W&B African', 'ethnicitycleaned'] = 'Mixed Race'\n",
        "df.loc[df['ethnicitycleaned'] == 'F. Mixed Race - Wte and Asn', 'ethnicitycleaned'] = 'Mixed Race'"
      ]
    },
    {
      "cell_type": "code",
      "execution_count": null,
      "metadata": {
        "id": "Hn67lJNAcYAM"
      },
      "outputs": [],
      "source": [
        "df['ethnicitycleaned'].value_counts()"
      ]
    },
    {
      "cell_type": "code",
      "execution_count": null,
      "metadata": {
        "id": "namjrWh3cYAN"
      },
      "outputs": [],
      "source": [
        "df['ethnicitycleaned'].value_counts(normalize=True)"
      ]
    },
    {
      "cell_type": "code",
      "execution_count": null,
      "metadata": {
        "id": "HfnKGdoNcYAN"
      },
      "outputs": [],
      "source": []
    }
  ],
  "metadata": {
    "kernelspec": {
      "display_name": "Python 3",
      "language": "python",
      "name": "python3"
    },
    "language_info": {
      "codemirror_mode": {
        "name": "ipython",
        "version": 3
      },
      "file_extension": ".py",
      "mimetype": "text/x-python",
      "name": "python",
      "nbconvert_exporter": "python",
      "pygments_lexer": "ipython3",
      "version": "3.7.1"
    },
    "colab": {
      "provenance": []
    }
  },
  "nbformat": 4,
  "nbformat_minor": 0
}