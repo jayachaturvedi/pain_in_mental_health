{
  "cells": [
    {
      "cell_type": "markdown",
      "source": [
        "Install and import pacakges"
      ],
      "metadata": {
        "id": "Oy-9Abp5Pzu1"
      },
      "id": "Oy-9Abp5Pzu1"
    },
    {
      "cell_type": "code",
      "execution_count": null,
      "id": "22d4a25b-b617-42e7-b672-beb6d9e3ad26",
      "metadata": {
        "tags": [],
        "id": "22d4a25b-b617-42e7-b672-beb6d9e3ad26",
        "outputId": "2d36869e-ecf2-49be-ecdb-29d9da67ce7e"
      },
      "outputs": [
        {
          "name": "stdout",
          "output_type": "stream",
          "text": [
            "Collecting matplotlib-venn\n",
            "  Using cached matplotlib_venn-0.11.9-py3-none-any.whl\n",
            "Requirement already satisfied: matplotlib in /opt/conda/lib/python3.10/site-packages (from matplotlib-venn) (3.7.1)\n",
            "Requirement already satisfied: scipy in /opt/conda/lib/python3.10/site-packages (from matplotlib-venn) (1.10.1)\n",
            "Requirement already satisfied: numpy in /opt/conda/lib/python3.10/site-packages (from matplotlib-venn) (1.23.5)\n",
            "Requirement already satisfied: pillow>=6.2.0 in /opt/conda/lib/python3.10/site-packages (from matplotlib->matplotlib-venn) (9.4.0)\n",
            "Requirement already satisfied: python-dateutil>=2.7 in /opt/conda/lib/python3.10/site-packages (from matplotlib->matplotlib-venn) (2.8.2)\n",
            "Requirement already satisfied: pyparsing>=2.3.1 in /opt/conda/lib/python3.10/site-packages (from matplotlib->matplotlib-venn) (3.0.9)\n",
            "Requirement already satisfied: kiwisolver>=1.0.1 in /opt/conda/lib/python3.10/site-packages (from matplotlib->matplotlib-venn) (1.4.4)\n",
            "Requirement already satisfied: packaging>=20.0 in /opt/conda/lib/python3.10/site-packages (from matplotlib->matplotlib-venn) (23.0)\n",
            "Requirement already satisfied: cycler>=0.10 in /opt/conda/lib/python3.10/site-packages (from matplotlib->matplotlib-venn) (0.11.0)\n",
            "Requirement already satisfied: fonttools>=4.22.0 in /opt/conda/lib/python3.10/site-packages (from matplotlib->matplotlib-venn) (4.39.3)\n",
            "Requirement already satisfied: contourpy>=1.0.1 in /opt/conda/lib/python3.10/site-packages (from matplotlib->matplotlib-venn) (1.0.7)\n",
            "Requirement already satisfied: six>=1.5 in /opt/conda/lib/python3.10/site-packages (from python-dateutil>=2.7->matplotlib->matplotlib-venn) (1.16.0)\n",
            "Installing collected packages: matplotlib-venn\n",
            "Successfully installed matplotlib-venn-0.11.9\n"
          ]
        }
      ],
      "source": [
        "!pip install matplotlib-venn"
      ]
    },
    {
      "cell_type": "code",
      "execution_count": null,
      "id": "43ce696d-dd79-49cf-8ef7-2ccabe44a38f",
      "metadata": {
        "tags": [],
        "id": "43ce696d-dd79-49cf-8ef7-2ccabe44a38f",
        "outputId": "a13ad8b3-bd13-4024-be3f-312fc8c4013b"
      },
      "outputs": [
        {
          "name": "stdout",
          "output_type": "stream",
          "text": [
            "Collecting openpyxl\n",
            "  Using cached openpyxl-3.1.2-py2.py3-none-any.whl (249 kB)\n",
            "Collecting et-xmlfile\n",
            "  Using cached et_xmlfile-1.1.0-py3-none-any.whl (4.7 kB)\n",
            "Installing collected packages: et-xmlfile, openpyxl\n",
            "Successfully installed et-xmlfile-1.1.0 openpyxl-3.1.2\n"
          ]
        }
      ],
      "source": [
        "!pip install openpyxl"
      ]
    },
    {
      "cell_type": "code",
      "execution_count": null,
      "id": "65146a03-a120-4f8f-9d5e-e2ad73995725",
      "metadata": {
        "tags": [],
        "id": "65146a03-a120-4f8f-9d5e-e2ad73995725"
      },
      "outputs": [],
      "source": [
        "import pandas as pd\n",
        "import matplotlib\n",
        "import sys\n",
        "import os\n",
        "\n",
        "%matplotlib inline\n",
        "from matplotlib_venn import venn2, venn2_circles\n",
        "from matplotlib_venn import venn3, venn3_circles\n",
        "from matplotlib import pyplot as plt\n",
        "from matplotlib_venn import venn3_unweighted\n",
        "from matplotlib_venn import venn2_unweighted"
      ]
    },
    {
      "cell_type": "markdown",
      "source": [
        "Import file as dataframe"
      ],
      "metadata": {
        "id": "elDNqX9DP3m-"
      },
      "id": "elDNqX9DP3m-"
    },
    {
      "cell_type": "code",
      "execution_count": null,
      "id": "19001582-eaeb-48a8-a538-8493bb697b62",
      "metadata": {
        "tags": [],
        "id": "19001582-eaeb-48a8-a538-8493bb697b62"
      },
      "outputs": [],
      "source": [
        "#df_ldn = pd.read_excel('in_ldn.xlsx')\n",
        "#df_cris = pd.read_excel('in_cris.xlsx')\n",
        "\n",
        "df = pd.read_excel('JC_23_003_full_cohort_and_LDN_pain_extract_20230502_no_dupes - Copy.xlsx')"
      ]
    },
    {
      "cell_type": "code",
      "execution_count": null,
      "id": "3c9a6081-5b8b-41eb-9b99-56a00e7fdf50",
      "metadata": {
        "tags": [],
        "id": "3c9a6081-5b8b-41eb-9b99-56a00e7fdf50"
      },
      "outputs": [],
      "source": [
        "# take a look at first 5 rows\n",
        "\n",
        "df.head(2)"
      ]
    },
    {
      "cell_type": "markdown",
      "source": [
        "Create separate dataframes based on criteria for venn diagram"
      ],
      "metadata": {
        "id": "Gs3c2--_P9VX"
      },
      "id": "Gs3c2--_P9VX"
    },
    {
      "cell_type": "code",
      "execution_count": null,
      "id": "f7265e62-f48a-4a66-bdcf-4d0023315778",
      "metadata": {
        "tags": [],
        "id": "f7265e62-f48a-4a66-bdcf-4d0023315778"
      },
      "outputs": [],
      "source": [
        "df_pain_diag = df[df['N_pain_diagnosis_entries'] > 0]\n",
        "df_pain_diag.head(2)"
      ]
    },
    {
      "cell_type": "code",
      "execution_count": null,
      "id": "af7fd070-0a01-46f9-8638-b3e9464c528a",
      "metadata": {
        "tags": [],
        "id": "af7fd070-0a01-46f9-8638-b3e9464c528a"
      },
      "outputs": [],
      "source": [
        "df_pain_med = df[df['N_pain_medication_entries'] > 0]\n",
        "df_pain_med.head(2)"
      ]
    },
    {
      "cell_type": "code",
      "execution_count": null,
      "id": "a163dadb-b07a-4ffd-b82a-cc2323583395",
      "metadata": {
        "tags": [],
        "id": "a163dadb-b07a-4ffd-b82a-cc2323583395"
      },
      "outputs": [],
      "source": [
        "df_pain_rx = df[df['N_pain_treatment_entries'] > 0]\n",
        "df_pain_rx.head(2)"
      ]
    },
    {
      "cell_type": "code",
      "execution_count": null,
      "id": "1778510d-3275-4c88-9210-062a3b824d2a",
      "metadata": {
        "tags": [],
        "id": "1778510d-3275-4c88-9210-062a3b824d2a"
      },
      "outputs": [],
      "source": [
        "lst_pain_diag = df_pain_diag['Anonymised_ID'].tolist()\n",
        "lst_pain_med = df_pain_med['Anonymised_ID'].tolist()\n",
        "lst_pain_rx = df_pain_rx['Anonymised_ID'].tolist()"
      ]
    },
    {
      "cell_type": "code",
      "execution_count": null,
      "id": "3b572390-0dc3-43cd-8834-a09151acd37d",
      "metadata": {
        "id": "3b572390-0dc3-43cd-8834-a09151acd37d"
      },
      "outputs": [],
      "source": [
        "lst_ldn = df_ldn['Anonymised_ID'].tolist()\n",
        "lst_cris = df_cris['Anonymised_ID'].tolist()"
      ]
    },
    {
      "cell_type": "code",
      "execution_count": null,
      "id": "063273c2-f8a1-4a28-8b41-fae46d88062f",
      "metadata": {
        "id": "063273c2-f8a1-4a28-8b41-fae46d88062f",
        "outputId": "904b19bf-728d-4fb9-c42e-8296326d6507"
      },
      "outputs": [
        {
          "name": "stdout",
          "output_type": "stream",
          "text": [
            "Number of patients in CRIS =  18427\n",
            "Number of patients in LDN =  3799\n"
          ]
        }
      ],
      "source": [
        "print(\"Number of patients in CRIS = \", len(lst_cris))\n",
        "print(\"Number of patients in LDN = \", len(lst_ldn))\n"
      ]
    },
    {
      "cell_type": "code",
      "execution_count": null,
      "id": "99deea67-ba1a-478c-864d-e8ab273b6593",
      "metadata": {
        "tags": [],
        "id": "99deea67-ba1a-478c-864d-e8ab273b6593",
        "outputId": "bf981337-3be5-48a8-9e54-d1506bc2263f"
      },
      "outputs": [
        {
          "name": "stdout",
          "output_type": "stream",
          "text": [
            "Number of patients in Pain Diagnosis =  1421\n",
            "Number of patients in Pain Medication =  956\n",
            "Number of patients in Pain Treatment =  185\n"
          ]
        }
      ],
      "source": [
        "print(\"Number of patients in Pain Diagnosis = \", len(lst_pain_diag))\n",
        "print(\"Number of patients in Pain Medication = \", len(lst_pain_med))\n",
        "print(\"Number of patients in Pain Treatment = \", len(lst_pain_rx))"
      ]
    },
    {
      "cell_type": "markdown",
      "source": [
        "Plot venn diagrams"
      ],
      "metadata": {
        "id": "N7qjAZ3SQDYX"
      },
      "id": "N7qjAZ3SQDYX"
    },
    {
      "cell_type": "code",
      "execution_count": null,
      "id": "c2acd6cb-c6a9-4bcd-8d46-9108ec9eae6d",
      "metadata": {
        "tags": [],
        "id": "c2acd6cb-c6a9-4bcd-8d46-9108ec9eae6d",
        "outputId": "2a876f9f-a4b8-494f-f554-790009290496"
      },
      "outputs": [
        {
          "data": {
            "image/png": "[encoded data removed]",
            "text/plain": [
              "<Figure size 640x480 with 1 Axes>"
            ]
          },
          "metadata": {},
          "output_type": "display_data"
        }
      ],
      "source": [
        "venn3_unweighted([set(lst_pain_diag), set(lst_pain_med), set(lst_pain_rx)], set_labels = ('Pain Diagnosis', 'Pain Medication', 'Pain Treatment'))\n",
        "plt.title('Overlap of Pain Lists in LDN \\n')\n",
        "plt.rcParams[\"figure.figsize\"] = (5,10)"
      ]
    },
    {
      "cell_type": "code",
      "execution_count": null,
      "id": "b3032146-0ee7-452e-a2a8-5e58d2ae320d",
      "metadata": {
        "id": "b3032146-0ee7-452e-a2a8-5e58d2ae320d",
        "outputId": "dae48400-b231-4c43-c135-291d0576468b"
      },
      "outputs": [
        {
          "data": {
            "image/png": "[encoded data removed]",
            "text/plain": [
              "<Figure size 3600x576 with 1 Axes>"
            ]
          },
          "metadata": {},
          "output_type": "display_data"
        }
      ],
      "source": [
        "venn2_unweighted([set(lst_cris), set(lst_ldn)], set_labels = ('CRIS', 'LDN'))\n",
        "plt.title('Overlap of CRIS and LDN \\n')\n",
        "plt.rcParams[\"figure.figsize\"] = (5,10)"
      ]
    },
    {
      "cell_type": "code",
      "execution_count": null,
      "id": "c399a498-e00b-49b6-aabb-31daff803bfd",
      "metadata": {
        "tags": [],
        "id": "c399a498-e00b-49b6-aabb-31daff803bfd"
      },
      "outputs": [],
      "source": [
        "df.head(2)"
      ]
    },
    {
      "cell_type": "code",
      "execution_count": null,
      "id": "63242863-cc03-4f62-82ad-9a2a2035dfb2",
      "metadata": {
        "tags": [],
        "id": "63242863-cc03-4f62-82ad-9a2a2035dfb2"
      },
      "outputs": [],
      "source": [
        "df_overlap = df[df['In_LDN'] == 1]"
      ]
    },
    {
      "cell_type": "code",
      "execution_count": null,
      "id": "a57a2dbd-2509-4761-b6d6-94514ac026a6",
      "metadata": {
        "tags": [],
        "id": "a57a2dbd-2509-4761-b6d6-94514ac026a6"
      },
      "outputs": [],
      "source": [
        "df_overlap.head(2)"
      ]
    },
    {
      "cell_type": "code",
      "execution_count": null,
      "id": "5caff94f-aefb-44a0-8fb1-239aee9e6549",
      "metadata": {
        "tags": [],
        "id": "5caff94f-aefb-44a0-8fb1-239aee9e6549",
        "outputId": "627e39b3-5dc1-478a-c310-a3172d84c480"
      },
      "outputs": [
        {
          "data": {
            "text/plain": [
              "jc-pain in LDN\n",
              "no     1805\n",
              "yes    1755\n",
              "Name: count, dtype: int64"
            ]
          },
          "execution_count": 38,
          "metadata": {},
          "output_type": "execute_result"
        }
      ],
      "source": [
        "df_overlap['jc-pain in LDN'].value_counts()"
      ]
    },
    {
      "cell_type": "code",
      "execution_count": null,
      "id": "330879fc-b731-4521-bf1d-4a16da35d8d3",
      "metadata": {
        "tags": [],
        "id": "330879fc-b731-4521-bf1d-4a16da35d8d3",
        "outputId": "f87004c3-78c7-4a60-cca1-32ca445613b9"
      },
      "outputs": [
        {
          "data": {
            "text/plain": [
              "gender\n",
              "Female    1814\n",
              "Male      1743\n",
              "Other        3\n",
              "Name: count, dtype: int64"
            ]
          },
          "execution_count": 39,
          "metadata": {},
          "output_type": "execute_result"
        }
      ],
      "source": [
        "df_overlap['gender'].value_counts()"
      ]
    },
    {
      "cell_type": "code",
      "execution_count": null,
      "id": "e0c6478a-473d-4c5b-8fcc-53d9d1206134",
      "metadata": {
        "tags": [],
        "id": "e0c6478a-473d-4c5b-8fcc-53d9d1206134",
        "outputId": "cff6ad7a-c991-47ab-9d9f-837a703a2a76"
      },
      "outputs": [
        {
          "data": {
            "text/plain": [
              "3560"
            ]
          },
          "execution_count": 40,
          "metadata": {},
          "output_type": "execute_result"
        }
      ],
      "source": [
        "len(df_overlap)"
      ]
    },
    {
      "cell_type": "code",
      "execution_count": null,
      "id": "0aff78c1-030b-4c54-9e6a-56eab83693f9",
      "metadata": {
        "tags": [],
        "id": "0aff78c1-030b-4c54-9e6a-56eab83693f9"
      },
      "outputs": [],
      "source": [
        "df_overlap.head(2)"
      ]
    },
    {
      "cell_type": "markdown",
      "id": "113aa13c-c043-44e6-8e15-b1bd1260b09f",
      "metadata": {
        "id": "113aa13c-c043-44e6-8e15-b1bd1260b09f"
      },
      "source": [
        "df_overlap contains patients who are in both CRIS and LDN\n",
        "\n",
        "\n",
        "create a df that contains yes pain in LDN\n",
        "\n",
        "\n",
        "create a df that contains yes pain in CRIS\n",
        "\n",
        "\n",
        "do a venn for both"
      ]
    },
    {
      "cell_type": "code",
      "execution_count": null,
      "id": "1c0e16be-bad2-4e4b-8252-5a936dc262e2",
      "metadata": {
        "tags": [],
        "id": "1c0e16be-bad2-4e4b-8252-5a936dc262e2",
        "outputId": "df02a553-83c5-458d-9f18-9bf0cbfb41d9"
      },
      "outputs": [
        {
          "data": {
            "text/plain": [
              "2848"
            ]
          },
          "execution_count": 42,
          "metadata": {},
          "output_type": "execute_result"
        }
      ],
      "source": [
        "df_overlap_cris = df_overlap[df_overlap['pain'] == 1]\n",
        "len(df_overlap_cris)"
      ]
    },
    {
      "cell_type": "code",
      "execution_count": null,
      "id": "da5f7481-8ec0-4dc1-8d21-e3d62400ba36",
      "metadata": {
        "tags": [],
        "id": "da5f7481-8ec0-4dc1-8d21-e3d62400ba36",
        "outputId": "f9d4d9cc-d407-48fa-f043-01d318aee67d"
      },
      "outputs": [
        {
          "data": {
            "text/plain": [
              "1755"
            ]
          },
          "execution_count": 43,
          "metadata": {},
          "output_type": "execute_result"
        }
      ],
      "source": [
        "df_overlap_ldn = df_overlap[df_overlap['jc-pain in LDN'] == \"yes\"]\n",
        "len(df_overlap_ldn)"
      ]
    },
    {
      "cell_type": "code",
      "execution_count": null,
      "id": "ff023816-4224-4efd-8d1e-587556c36b69",
      "metadata": {
        "tags": [],
        "id": "ff023816-4224-4efd-8d1e-587556c36b69"
      },
      "outputs": [],
      "source": [
        "lst_ldn = df_overlap_ldn['Anonymised_ID'].tolist()\n",
        "lst_cris = df_overlap_cris['Anonymised_ID'].tolist()"
      ]
    },
    {
      "cell_type": "code",
      "execution_count": null,
      "id": "518cb96b-8942-4b37-a497-b370bacdb8be",
      "metadata": {
        "id": "518cb96b-8942-4b37-a497-b370bacdb8be"
      },
      "outputs": [],
      "source": [
        "df_ldn_pain_rec = pd.read_excel('ldn_pain_recorded.xlsx')\n",
        "df_cris_pain_rec = pd.read_excel('cris_pain_recorded.xlsx')"
      ]
    },
    {
      "cell_type": "code",
      "execution_count": null,
      "id": "c53108ca-26ac-4bb2-bdfa-608a21da40a8",
      "metadata": {
        "id": "c53108ca-26ac-4bb2-bdfa-608a21da40a8"
      },
      "outputs": [],
      "source": [
        "lst_ldn = df_ldn_pain_rec['Anonymised_ID'].tolist()\n",
        "lst_cris = df_cris_pain_rec['Anonymised_ID'].tolist()"
      ]
    },
    {
      "cell_type": "code",
      "execution_count": null,
      "id": "49abf33b-518e-42ff-89c2-15e8ea1f823f",
      "metadata": {
        "tags": [],
        "id": "49abf33b-518e-42ff-89c2-15e8ea1f823f",
        "outputId": "e651360f-3d8f-4613-db02-6ca6dffc7374"
      },
      "outputs": [
        {
          "name": "stdout",
          "output_type": "stream",
          "text": [
            "Number of patients with recorded pain in CRIS =  2848\n",
            "Number of patients with recorded pain in LDN =  1755\n"
          ]
        }
      ],
      "source": [
        "print(\"Number of patients with recorded pain in CRIS = \", len(lst_cris))\n",
        "print(\"Number of patients with recorded pain in LDN = \", len(lst_ldn))"
      ]
    },
    {
      "cell_type": "code",
      "execution_count": null,
      "id": "2a7cf796-25e7-4c9e-9caf-008ff71b2746",
      "metadata": {
        "tags": [],
        "id": "2a7cf796-25e7-4c9e-9caf-008ff71b2746",
        "outputId": "54450242-1e7c-4dab-c5f1-74e86c65f427"
      },
      "outputs": [
        {
          "data": {
            "image/png": "[encoded data removed]",
            "text/plain": [
              "<Figure size 640x480 with 1 Axes>"
            ]
          },
          "metadata": {},
          "output_type": "display_data"
        }
      ],
      "source": [
        "venn2_unweighted([set(lst_cris), set(lst_ldn)], set_labels = ('CRIS', 'LDN'))\n",
        "plt.title('Overlap of Recorded Pain in CRIS and LDN \\n')\n",
        "plt.rcParams[\"figure.figsize\"] = (8,20)\n",
        "\n"
      ]
    },
    {
      "cell_type": "code",
      "execution_count": null,
      "id": "fb41297c-3882-432a-b7e1-b40f0f45f207",
      "metadata": {
        "id": "fb41297c-3882-432a-b7e1-b40f0f45f207"
      },
      "outputs": [],
      "source": [
        "df = pd.read_excel('JC_23_003_full_cohort_and_LDN_pain_extract_20230421.xlsx', 'copy')"
      ]
    },
    {
      "cell_type": "code",
      "execution_count": null,
      "id": "a9515573-cbc8-4f11-ae59-a89f1d6500da",
      "metadata": {
        "id": "a9515573-cbc8-4f11-ae59-a89f1d6500da"
      },
      "outputs": [],
      "source": [
        "df.head()"
      ]
    },
    {
      "cell_type": "code",
      "execution_count": null,
      "id": "c8709535-90aa-4d88-a3a9-18f6302bbe21",
      "metadata": {
        "id": "c8709535-90aa-4d88-a3a9-18f6302bbe21"
      },
      "outputs": [],
      "source": [
        "df_pain_rec_cris_only = df[(df['cris_only_pain'] == 1)]"
      ]
    },
    {
      "cell_type": "code",
      "execution_count": null,
      "id": "c67ae9ec-aeb6-4d39-87df-b4c132b6323b",
      "metadata": {
        "id": "c67ae9ec-aeb6-4d39-87df-b4c132b6323b"
      },
      "outputs": [],
      "source": [
        "df_pain_rec_cris_only.head()"
      ]
    },
    {
      "cell_type": "code",
      "execution_count": null,
      "id": "11348ba3-eb8d-4668-9b5c-01e7a6ac8363",
      "metadata": {
        "id": "11348ba3-eb8d-4668-9b5c-01e7a6ac8363"
      },
      "outputs": [],
      "source": [
        "df_pain_rec_cris_only['cris_only_pain'].value_counts()"
      ]
    },
    {
      "cell_type": "code",
      "execution_count": null,
      "id": "99773f80-118d-49e4-b043-f299661ee790",
      "metadata": {
        "id": "99773f80-118d-49e4-b043-f299661ee790"
      },
      "outputs": [],
      "source": [
        "df_pain_rec_cris_only['gender'].value_counts(normalize=True)"
      ]
    },
    {
      "cell_type": "code",
      "execution_count": null,
      "id": "8755f8a4-dad6-4295-a422-1e12da9616c3",
      "metadata": {
        "id": "8755f8a4-dad6-4295-a422-1e12da9616c3"
      },
      "outputs": [],
      "source": [
        "df_pain_rec_cris_only['ethnicity'].value_counts(normalize=True)"
      ]
    },
    {
      "cell_type": "code",
      "execution_count": null,
      "id": "ee60de08-3b3a-487c-b6bc-6fda7b4f7165",
      "metadata": {
        "id": "ee60de08-3b3a-487c-b6bc-6fda7b4f7165"
      },
      "outputs": [],
      "source": [
        "df_pain_rec_cris_only['diagnosis_code'].value_counts(normalize=True)"
      ]
    },
    {
      "cell_type": "code",
      "execution_count": null,
      "id": "f9b2cd2e-7a8d-4098-8f9d-67ec02491bab",
      "metadata": {
        "id": "f9b2cd2e-7a8d-4098-8f9d-67ec02491bab"
      },
      "outputs": [],
      "source": [
        "df_pain_rec_cris_only.describe()"
      ]
    },
    {
      "cell_type": "code",
      "execution_count": null,
      "id": "89322405-dff8-4a6e-8753-f122a9d9e9e7",
      "metadata": {
        "id": "89322405-dff8-4a6e-8753-f122a9d9e9e7"
      },
      "outputs": [],
      "source": [
        "df_pain_rec_ldn_only = df[(df['ldn_only_pain'] == 1)]"
      ]
    },
    {
      "cell_type": "code",
      "execution_count": null,
      "id": "1abda72a-893c-4b80-a57a-b4d89afbd7db",
      "metadata": {
        "id": "1abda72a-893c-4b80-a57a-b4d89afbd7db"
      },
      "outputs": [],
      "source": [
        "df_pain_rec_ldn_only.head()"
      ]
    },
    {
      "cell_type": "code",
      "execution_count": null,
      "id": "e25fe192-3355-4d1f-b9e9-e908423f994c",
      "metadata": {
        "id": "e25fe192-3355-4d1f-b9e9-e908423f994c"
      },
      "outputs": [],
      "source": [
        "df_pain_rec_ldn_only['ldn_only_pain'].value_counts()"
      ]
    },
    {
      "cell_type": "code",
      "execution_count": null,
      "id": "81093df1-a488-4f96-a989-0e592bcc169c",
      "metadata": {
        "id": "81093df1-a488-4f96-a989-0e592bcc169c"
      },
      "outputs": [],
      "source": [
        "df_pain_rec_ldn_only['gender'].value_counts(normalize=True)"
      ]
    },
    {
      "cell_type": "code",
      "execution_count": null,
      "id": "caeb60f5-4b13-46ef-bb91-bd88f0e79406",
      "metadata": {
        "id": "caeb60f5-4b13-46ef-bb91-bd88f0e79406"
      },
      "outputs": [],
      "source": [
        "df_pain_rec_ldn_only['ethnicity'].value_counts(normalize=True)"
      ]
    },
    {
      "cell_type": "code",
      "execution_count": null,
      "id": "40e1ed91-0b3c-4261-a01e-057fdc4e3c37",
      "metadata": {
        "id": "40e1ed91-0b3c-4261-a01e-057fdc4e3c37"
      },
      "outputs": [],
      "source": [
        "df_pain_rec_ldn_only['diagnosis_code'].value_counts(normalize=True)"
      ]
    },
    {
      "cell_type": "code",
      "execution_count": null,
      "id": "19cd1374-99dc-44eb-8a51-c1ce603ac07e",
      "metadata": {
        "id": "19cd1374-99dc-44eb-8a51-c1ce603ac07e"
      },
      "outputs": [],
      "source": [
        "df_pain_rec_ldn_only.describe()"
      ]
    },
    {
      "cell_type": "code",
      "execution_count": null,
      "id": "60c5ea21-86b2-4af6-97b3-5a014299f8a2",
      "metadata": {
        "id": "60c5ea21-86b2-4af6-97b3-5a014299f8a2"
      },
      "outputs": [],
      "source": []
    }
  ],
  "metadata": {
    "kernelspec": {
      "display_name": "Python 3 (ipykernel)",
      "language": "python",
      "name": "python3"
    },
    "language_info": {
      "codemirror_mode": {
        "name": "ipython",
        "version": 3
      },
      "file_extension": ".py",
      "mimetype": "text/x-python",
      "name": "python",
      "nbconvert_exporter": "python",
      "pygments_lexer": "ipython3",
      "version": "3.10.10"
    },
    "colab": {
      "provenance": []
    }
  },
  "nbformat": 4,
  "nbformat_minor": 5
}