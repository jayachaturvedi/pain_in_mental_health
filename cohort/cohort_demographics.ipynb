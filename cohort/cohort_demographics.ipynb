{
  "cells": [
    {
      "cell_type": "markdown",
      "metadata": {
        "id": "V9inmoWmcfTw"
      },
      "source": [
        "Imports"
      ]
    },
    {
      "cell_type": "code",
      "execution_count": null,
      "metadata": {
        "id": "a4PMhWW5cfT0"
      },
      "outputs": [],
      "source": [
        "import pandas as pd\n",
        "import numpy as np\n",
        "\n",
        "import os\n",
        "\n",
        "import matplotlib.pyplot as plt\n",
        "from matplotlib.ticker import StrMethodFormatter\n",
        "%matplotlib inline\n",
        "\n",
        "import seaborn as sns\n",
        "\n",
        "import warnings\n",
        "warnings.filterwarnings(\"ignore\")\n",
        "\n",
        "import datetime\n",
        "from datetime import datetime\n",
        "from datetime import date\n",
        "today = datetime.today()"
      ]
    },
    {
      "cell_type": "markdown",
      "metadata": {
        "id": "WvKrLHVJcfT1"
      },
      "source": [
        "Load data"
      ]
    },
    {
      "cell_type": "code",
      "execution_count": null,
      "metadata": {
        "id": "fryMGuklcfT2"
      },
      "outputs": [],
      "source": [
        "path = \"Jaya Chaturvedi/13_Pain/cohort/\""
      ]
    },
    {
      "cell_type": "code",
      "execution_count": null,
      "metadata": {
        "id": "deaxjuKtcfT2"
      },
      "outputs": [],
      "source": [
        "df = pd.read_excel(path+\"21_021_Jaya_Chaturvedi_Extraction_Data.xlsx\")"
      ]
    },
    {
      "cell_type": "code",
      "execution_count": null,
      "metadata": {
        "id": "xNmzPT1LcfT3"
      },
      "outputs": [],
      "source": [
        "df.head()"
      ]
    },
    {
      "cell_type": "code",
      "execution_count": null,
      "metadata": {
        "id": "2pKamjZ7cfT3"
      },
      "outputs": [],
      "source": [
        "df.info()"
      ]
    },
    {
      "cell_type": "code",
      "execution_count": null,
      "metadata": {
        "id": "1fTBO0ZfcfT4",
        "outputId": "b0373789-6557-4095-a99d-136c6d6ea952"
      },
      "outputs": [
        {
          "data": {
            "text/plain": [
              "Female           13709\n",
              "Male             13471\n",
              "Other               20\n",
              "Not Specified        6\n",
              "Not Known            5\n",
              "Name: Gender_ID, dtype: int64"
            ]
          },
          "execution_count": 12,
          "metadata": {},
          "output_type": "execute_result"
        }
      ],
      "source": [
        "df.Gender_ID.value_counts()"
      ]
    },
    {
      "cell_type": "code",
      "execution_count": null,
      "metadata": {
        "id": "5KzGpJDWcfT4",
        "outputId": "50b6020b-ea2e-403c-8947-5918e4a97f9d"
      },
      "outputs": [
        {
          "data": {
            "text/plain": [
              "Female           0.503804\n",
              "Male             0.495057\n",
              "Other            0.000735\n",
              "Not Specified    0.000220\n",
              "Not Known        0.000184\n",
              "Name: Gender_ID, dtype: float64"
            ]
          },
          "execution_count": 13,
          "metadata": {},
          "output_type": "execute_result"
        }
      ],
      "source": [
        "df.Gender_ID.value_counts(normalize=True)"
      ]
    },
    {
      "cell_type": "code",
      "execution_count": null,
      "metadata": {
        "id": "VBsUXc07cfT5",
        "outputId": "dde9fac2-5a39-4978-c46c-0ab2aa3caa03"
      },
      "outputs": [
        {
          "data": {
            "image/png": "[encoded data removed]",
            "text/plain": [
              "<Figure size 432x288 with 1 Axes>"
            ]
          },
          "metadata": {},
          "output_type": "display_data"
        }
      ],
      "source": [
        "sns.set(style=\"whitegrid\")\n",
        "\n",
        "# use a different colour palette in count plot\n",
        "ax = sns.barplot(x ='Gender_ID', y='brcid', data = df, palette = \"colorblind\", estimator=lambda x: len(x) / len(df) * 100).set(title='Gender Distribution')\n",
        "\n",
        "# Show the plot\n",
        "plt.show()"
      ]
    },
    {
      "cell_type": "code",
      "execution_count": null,
      "metadata": {
        "id": "FmbLQ1PJcfT5",
        "outputId": "6613231d-ea07-40fa-9247-e5221183356d"
      },
      "outputs": [
        {
          "data": {
            "image/png": "[encoded data removed]",
            "text/plain": [
              "<Figure size 432x288 with 1 Axes>"
            ]
          },
          "metadata": {
            "needs_background": "light"
          },
          "output_type": "display_data"
        },
        {
          "data": {
            "text/plain": [
              "<Figure size 576x576 with 0 Axes>"
            ]
          },
          "metadata": {},
          "output_type": "display_data"
        },
        {
          "data": {
            "text/plain": [
              "<Figure size 432x288 with 0 Axes>"
            ]
          },
          "metadata": {},
          "output_type": "display_data"
        }
      ],
      "source": [
        "gender = pd.DataFrame({'Gender': ['Male', 'Female'], 'val': [50.4, 49.6]})\n",
        "fig = sns.barplot(x = 'val', y = 'Gender', data = gender)\n",
        "plt.xlabel(\"Percentage\")\n",
        "plt.ylabel(\"Gender\")\n",
        "plt.title(\"Gender Distribution\") # You can comment this line out if you don't need title\n",
        "plt.figure(figsize=(8, 8))\n",
        "plt.style.use('tableau-colorblind10')\n",
        "\n",
        "plt.show(fig)\n",
        "plt.savefig(path+'gender_m_f.png')"
      ]
    },
    {
      "cell_type": "code",
      "execution_count": null,
      "metadata": {
        "id": "O3L4SKEHcfT6",
        "outputId": "34c56c9c-a573-49bf-bdf7-25122cc9be04"
      },
      "outputs": [
        {
          "data": {
            "image/png": "[encoded data removed]",
            "text/plain": [
              "<Figure size 432x288 with 1 Axes>"
            ]
          },
          "metadata": {},
          "output_type": "display_data"
        },
        {
          "data": {
            "text/plain": [
              "<Figure size 576x576 with 0 Axes>"
            ]
          },
          "metadata": {},
          "output_type": "display_data"
        },
        {
          "data": {
            "text/plain": [
              "<Figure size 432x288 with 0 Axes>"
            ]
          },
          "metadata": {},
          "output_type": "display_data"
        }
      ],
      "source": [
        "df['age'].hist()\n",
        "plt.title(\"Age\")\n",
        "plt.figure(figsize=(8, 8))\n",
        "plt.style.use('tableau-colorblind10')\n",
        "\n",
        "plt.show(fig)\n",
        "plt.savefig(path+'all_age.png')"
      ]
    },
    {
      "cell_type": "code",
      "execution_count": null,
      "metadata": {
        "id": "ydJSh8N8cfT6",
        "outputId": "3a8ef99a-8a1f-43ed-c6a0-d6cf0f3441f2"
      },
      "outputs": [
        {
          "data": {
            "text/plain": [
              "count    27211.000000\n",
              "mean        43.761641\n",
              "std         17.541201\n",
              "min         18.000000\n",
              "25%         29.000000\n",
              "50%         42.000000\n",
              "75%         55.000000\n",
              "max        104.000000\n",
              "Name: age, dtype: float64"
            ]
          },
          "execution_count": 17,
          "metadata": {},
          "output_type": "execute_result"
        }
      ],
      "source": [
        "df['age'].describe()"
      ]
    },
    {
      "cell_type": "code",
      "execution_count": null,
      "metadata": {
        "id": "z4pi5WnucfT6",
        "outputId": "1a8fbf7e-198a-4ea0-99b7-5771cc10b404"
      },
      "outputs": [
        {
          "data": {
            "image/png": "[encoded data removed]",
            "text/plain": [
              "<Figure size 432x288 with 1 Axes>"
            ]
          },
          "metadata": {},
          "output_type": "display_data"
        },
        {
          "data": {
            "text/plain": [
              "<Figure size 432x288 with 0 Axes>"
            ]
          },
          "metadata": {},
          "output_type": "display_data"
        }
      ],
      "source": [
        "plt.hist(df['age'], density=True, bins=30)  # density=False would make counts\n",
        "plt.style.use('tableau-colorblind10')\n",
        "plt.ylabel('Count')\n",
        "plt.xlabel('Age')\n",
        "plt.title('Age Distribution')\n",
        "\n",
        "plt.show(fig)\n",
        "plt.savefig('all_age_better.png');"
      ]
    },
    {
      "cell_type": "code",
      "execution_count": null,
      "metadata": {
        "id": "yQ7lsyn4cfT6",
        "outputId": "ffbeb35e-2ad4-4f3a-c083-c738e29e85ae"
      },
      "outputs": [
        {
          "data": {
            "text/plain": [
              "<matplotlib.axes._subplots.AxesSubplot at 0x1c3d89cb630>"
            ]
          },
          "execution_count": 19,
          "metadata": {},
          "output_type": "execute_result"
        },
        {
          "data": {
            "image/png": "[encoded data removed]",
            "text/plain": [
              "<Figure size 432x288 with 1 Axes>"
            ]
          },
          "metadata": {},
          "output_type": "display_data"
        }
      ],
      "source": [
        "sns.distplot(df['age'], kde=True, bins = 10)"
      ]
    },
    {
      "cell_type": "code",
      "execution_count": null,
      "metadata": {
        "id": "UH4OOKyRcfT7"
      },
      "outputs": [],
      "source": [
        "df['ethnicitycleaned'].value_counts()"
      ]
    },
    {
      "cell_type": "code",
      "execution_count": null,
      "metadata": {
        "id": "KYa-SMdNcfT7"
      },
      "outputs": [],
      "source": [
        "df['ethnicitycleaned'].value_counts(normalize=True)"
      ]
    },
    {
      "cell_type": "code",
      "execution_count": null,
      "metadata": {
        "id": "JiyretZCcfT7"
      },
      "outputs": [],
      "source": [
        "df['ethnicitycleaned_copy_of_original'] = df['ethnicitycleaned']"
      ]
    },
    {
      "cell_type": "code",
      "execution_count": null,
      "metadata": {
        "id": "H52LVt6ucfT7"
      },
      "outputs": [],
      "source": [
        "df.loc[df['ethnicitycleaned'] == 'A. White - British', 'ethnicitycleaned'] = 'White - British, Irish, Other'\n",
        "df.loc[df['ethnicitycleaned'] == 'C. White – Other', 'ethnicitycleaned'] = 'White - British, Irish, Other'\n",
        "df.loc[df['ethnicitycleaned'] == 'B. White - Irish', 'ethnicitycleaned'] = 'White - British, Irish, Other'\n",
        "df.loc[df['ethnicitycleaned'] == 'C. White – Gyp/Irish Traveller', 'ethnicitycleaned'] = 'White - British, Irish, Other'\n",
        "df.loc[df['ethnicitycleaned'] == 'P. Black/Black British - Other', 'ethnicitycleaned'] = 'Black - British, African, Caribbean, Other'\n",
        "df.loc[df['ethnicitycleaned'] == 'N. Blk/Blk British - African', 'ethnicitycleaned'] = 'Black - British, African, Caribbean, Other'\n",
        "df.loc[df['ethnicitycleaned'] == 'M. Blk/Blk Brit - Caribbean', 'ethnicitycleaned'] = 'Black - British, African, Caribbean, Other'\n",
        "df.loc[df['ethnicitycleaned'] == 'S. Other ethnic group – Other', 'ethnicitycleaned'] = 'Other ethnic group'\n",
        "df.loc[df['ethnicitycleaned'] == 'S. Other ethnic group - Arab', 'ethnicitycleaned'] = 'Other ethnic group'\n",
        "df.loc[df['ethnicitycleaned'] == 'Z. Not Stated', 'ethnicitycleaned'] = 'Not stated/Not known'\n",
        "df.loc[df['ethnicitycleaned'] == 'S. Asian/Asian British – Other', 'ethnicitycleaned'] = 'Asian - British, Chinese, Indian, Pakistani, Bangladeshi, Other'\n",
        "df.loc[df['ethnicitycleaned'] == 'H. Asn/Asn Brit - Indian', 'ethnicitycleaned'] = 'Asian - British, Chinese, Indian, Pakistani, Bangladeshi, Other'\n",
        "df.loc[df['ethnicitycleaned'] == 'J. Asn/Asn Brit - Pakistani', 'ethnicitycleaned'] = 'Asian - British, Chinese, Indian, Pakistani, Bangladeshi, Other'\n",
        "df.loc[df['ethnicitycleaned'] == 'K. Asn/Asn Brit - Bangladeshi', 'ethnicitycleaned'] = 'Asian - British, Chinese, Indian, Pakistani, Bangladeshi, Other'\n",
        "df.loc[df['ethnicitycleaned'] == 'R. Asn/Asn Brit – Chinese', 'ethnicitycleaned'] = 'Asian - British, Chinese, Indian, Pakistani, Bangladeshi, Other'\n",
        "df.loc[df['ethnicitycleaned'] == 'D. Mixed Race - W&B Carib', 'ethnicitycleaned'] = 'Mixed Race'\n",
        "df.loc[df['ethnicitycleaned'] == 'G. Mixed Race - Other', 'ethnicitycleaned'] = 'Mixed Race'\n",
        "df.loc[df['ethnicitycleaned'] == 'E. Mixed Race - W&B African', 'ethnicitycleaned'] = 'Mixed Race'\n",
        "df.loc[df['ethnicitycleaned'] == 'F. Mixed Race - Wte and Asn', 'ethnicitycleaned'] = 'Mixed Race'"
      ]
    },
    {
      "cell_type": "code",
      "execution_count": null,
      "metadata": {
        "id": "wWDsVcTicfT8"
      },
      "outputs": [],
      "source": [
        "df.head()"
      ]
    },
    {
      "cell_type": "code",
      "execution_count": null,
      "metadata": {
        "id": "AHtaOUHEcfT8"
      },
      "outputs": [],
      "source": [
        "df['ethnicitycleaned'].value_counts()"
      ]
    },
    {
      "cell_type": "code",
      "execution_count": null,
      "metadata": {
        "id": "8KBKAaSbcfT8"
      },
      "outputs": [],
      "source": [
        "df['ethnicitycleaned'].value_counts(normalize=True)"
      ]
    },
    {
      "cell_type": "code",
      "execution_count": null,
      "metadata": {
        "id": "afk0gIjmcfT8"
      },
      "outputs": [],
      "source": []
    }
  ],
  "metadata": {
    "kernelspec": {
      "display_name": "Python 3",
      "language": "python",
      "name": "python3"
    },
    "language_info": {
      "codemirror_mode": {
        "name": "ipython",
        "version": 3
      },
      "file_extension": ".py",
      "mimetype": "text/x-python",
      "name": "python",
      "nbconvert_exporter": "python",
      "pygments_lexer": "ipython3",
      "version": "3.7.1"
    },
    "colab": {
      "provenance": []
    }
  },
  "nbformat": 4,
  "nbformat_minor": 0
}