{
  "cells": [
    {
      "cell_type": "markdown",
      "metadata": {
        "id": "gG4tznyLdXs5"
      },
      "source": [
        "Imports"
      ]
    },
    {
      "cell_type": "code",
      "execution_count": null,
      "metadata": {
        "id": "tH8IlyVPdXs8"
      },
      "outputs": [],
      "source": [
        "import pandas as pd\n",
        "import numpy as np\n",
        "\n",
        "import os\n",
        "\n",
        "import matplotlib.pyplot as plt\n",
        "from matplotlib.ticker import StrMethodFormatter\n",
        "%matplotlib inline\n",
        "\n",
        "import seaborn as sns\n",
        "\n",
        "import warnings\n",
        "warnings.filterwarnings(\"ignore\")\n",
        "\n",
        "import datetime\n",
        "from datetime import datetime\n",
        "from datetime import date\n",
        "today = datetime.today()"
      ]
    },
    {
      "cell_type": "markdown",
      "metadata": {
        "id": "ci3avh1pdXs9"
      },
      "source": [
        "Load and explore data"
      ]
    },
    {
      "cell_type": "code",
      "execution_count": null,
      "metadata": {
        "id": "lksTJDjSdXs-"
      },
      "outputs": [],
      "source": [
        "path = \"Jaya Chaturvedi/13_Pain/cohort/\""
      ]
    },
    {
      "cell_type": "code",
      "execution_count": null,
      "metadata": {
        "id": "HiZqtP_cdXs-"
      },
      "outputs": [],
      "source": [
        "df = pd.read_csv(path+\"cohort_pain_subset_sentences_oct2022_v2_split_pt_text.csv\")"
      ]
    },
    {
      "cell_type": "code",
      "execution_count": null,
      "metadata": {
        "id": "xl0_dfYtdXs-"
      },
      "outputs": [],
      "source": [
        "df.head()"
      ]
    },
    {
      "cell_type": "code",
      "execution_count": null,
      "metadata": {
        "id": "mrI1rNYEdXs_"
      },
      "outputs": [],
      "source": [
        "df['doc_type'].value_counts()"
      ]
    },
    {
      "cell_type": "code",
      "execution_count": null,
      "metadata": {
        "id": "op3r5pSAdXtA"
      },
      "outputs": [],
      "source": [
        "df['doc_type'].value_counts(normalize=True)"
      ]
    },
    {
      "cell_type": "code",
      "execution_count": null,
      "metadata": {
        "id": "T3G4x4j8dXtA"
      },
      "outputs": [],
      "source": [
        "df['kw'].value_counts()"
      ]
    },
    {
      "cell_type": "code",
      "execution_count": null,
      "metadata": {
        "id": "0ci4HMMRdXtB"
      },
      "outputs": [],
      "source": [
        "df['kw'].value_counts(normalize=True)"
      ]
    },
    {
      "cell_type": "code",
      "execution_count": null,
      "metadata": {
        "id": "5uMZCNrBdXtB"
      },
      "outputs": [],
      "source": [
        "df['text_length'] = df['clean_text'].str.len()\n",
        "\n",
        "ax = df.hist(column='text_length', bins=35, grid=False, figsize=(12,8), color='#86bf91', zorder=2, rwidth=0.9)\n",
        "\n",
        "ax = ax[0]\n",
        "for x in ax:\n",
        "\n",
        "    # Despine\n",
        "    x.spines['right'].set_visible(False)\n",
        "    x.spines['top'].set_visible(False)\n",
        "    x.spines['left'].set_visible(False)\n",
        "\n",
        "    # Switch off ticks\n",
        "    x.tick_params(axis=\"both\", which=\"both\", bottom=\"off\", top=\"off\", labelbottom=\"on\", left=\"off\", right=\"off\", labelleft=\"on\")\n",
        "\n",
        "    # Draw horizontal axis lines\n",
        "    vals = x.get_yticks()\n",
        "    for tick in vals:\n",
        "        x.axhline(y=tick, linestyle='dashed', alpha=0.4, color='#eeeeee', zorder=1)\n",
        "\n",
        "    # Remove title\n",
        "    x.set_title(\"Document length\")\n",
        "\n",
        "    # Set x-axis label\n",
        "    x.set_xlabel(\"Document text length\", labelpad=20, weight='bold', size=12)\n",
        "\n",
        "    # Set y-axis label\n",
        "    x.set_ylabel(\"Number of documents\", labelpad=20, weight='bold', size=12)\n",
        "\n",
        "    # Format y-axis label\n",
        "    x.yaxis.set_major_formatter(StrMethodFormatter('{x:,g}'))"
      ]
    },
    {
      "cell_type": "code",
      "execution_count": null,
      "metadata": {
        "id": "oNCAd_sadXtC"
      },
      "outputs": [],
      "source": [
        "df['text_length'].describe()"
      ]
    },
    {
      "cell_type": "code",
      "execution_count": null,
      "metadata": {
        "id": "C1_wy_TMdXtC"
      },
      "outputs": [],
      "source": [
        "plt.hist(df['text_length'], density=True, bins=30)  # density=False would make counts\n",
        "plt.style.use('tableau-colorblind10')\n",
        "plt.ylabel('Count')\n",
        "plt.xlabel('text_length')\n",
        "plt.title('text_length Distribution')\n",
        "\n",
        "plt.show(fig)\n",
        "plt.savefig(path+'pain_text_length_better.png');"
      ]
    },
    {
      "cell_type": "code",
      "execution_count": null,
      "metadata": {
        "id": "k8oXpp8IdXtC"
      },
      "outputs": [],
      "source": [
        "sns.distplot(df['text_length'], kde=True, bins = 10)"
      ]
    },
    {
      "cell_type": "code",
      "execution_count": null,
      "metadata": {
        "id": "noxKcjwMdXtC"
      },
      "outputs": [],
      "source": [
        "df.head()"
      ]
    },
    {
      "cell_type": "code",
      "execution_count": null,
      "metadata": {
        "id": "W77iUSXqdXtC"
      },
      "outputs": [],
      "source": [
        "df.loc[df.text_length == 18189]"
      ]
    },
    {
      "cell_type": "code",
      "execution_count": null,
      "metadata": {
        "id": "8BGZpFYKdXtD"
      },
      "outputs": [],
      "source": []
    }
  ],
  "metadata": {
    "kernelspec": {
      "display_name": "Python 3",
      "language": "python",
      "name": "python3"
    },
    "language_info": {
      "codemirror_mode": {
        "name": "ipython",
        "version": 3
      },
      "file_extension": ".py",
      "mimetype": "text/x-python",
      "name": "python",
      "nbconvert_exporter": "python",
      "pygments_lexer": "ipython3",
      "version": "3.7.1"
    },
    "colab": {
      "provenance": []
    }
  },
  "nbformat": 4,
  "nbformat_minor": 0
}