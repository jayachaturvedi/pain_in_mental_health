{
  "cells": [
    {
      "cell_type": "markdown",
      "metadata": {
        "id": "mhndsbizdTTU"
      },
      "source": [
        "Ref: https://htmlpreview.github.io/?https://github.com/CogStack/MedCATtutorials/blob/main/notebooks/introductory/Part_4_3_Annotating_documents_with_the_full_MedCAT_pipeline_with_MetaAnnotations.html\n",
        "\n",
        "File previously called - LatestFeb15-MedCAT_Tutorial___Part_4_3_Annotating_documents_with_the_full_MedCAT_pipeline_with_MetaAnnotations.ipynb"
      ]
    },
    {
      "cell_type": "code",
      "execution_count": null,
      "metadata": {
        "id": "MfFCiVQi6pGs"
      },
      "outputs": [],
      "source": [
        "####################\n",
        "########SKIP########\n",
        "####################\n",
        "\n",
        "# Install medcat - ignore this and pip install in next cell\n",
        "! pip install medcat==1.5.0\n",
        "try:\n",
        "    from medcat.cat import CAT\n",
        "except:\n",
        "    print(\"WARNING: Runtime will restart automatically and please run other cells thereafter.\")\n",
        "    exit()"
      ]
    },
    {
      "cell_type": "code",
      "execution_count": null,
      "metadata": {
        "id": "MPYiIu_2dTTa"
      },
      "outputs": [],
      "source": [
        "####################\n",
        "########SKIP########\n",
        "####################\n",
        "\n",
        "!pip install medcat #no need to run every time"
      ]
    },
    {
      "cell_type": "code",
      "execution_count": null,
      "metadata": {
        "id": "Z1EBpNHzdTTa"
      },
      "outputs": [],
      "source": [
        "import medcat"
      ]
    },
    {
      "cell_type": "code",
      "execution_count": null,
      "metadata": {
        "id": "jB_Y3-QmdTTb"
      },
      "outputs": [],
      "source": [
        "medcat.__version__ #will be 1.5.0"
      ]
    },
    {
      "cell_type": "code",
      "execution_count": null,
      "metadata": {
        "id": "_RLR0CmAdTTb"
      },
      "outputs": [],
      "source": [
        "####################\n",
        "########SKIP########\n",
        "####################\n",
        "\n",
        "#skip this\n",
        "!pip uninstall -y spacy\n",
        "!pip install spacy==3.1.0"
      ]
    },
    {
      "cell_type": "code",
      "execution_count": null,
      "metadata": {
        "id": "-sLQTxBEdTTb"
      },
      "outputs": [],
      "source": [
        "####################\n",
        "########SKIP########\n",
        "####################\n",
        "\n",
        "#skip this\n",
        "!pip uninstall -y blis\n",
        "!pip install blis==0.7.5"
      ]
    },
    {
      "cell_type": "code",
      "execution_count": null,
      "metadata": {
        "id": "aFKGM6vedTTc"
      },
      "outputs": [],
      "source": [
        "!pip install -U numpy"
      ]
    },
    {
      "cell_type": "code",
      "execution_count": null,
      "metadata": {
        "id": "xjHQgWsAdTTd"
      },
      "outputs": [],
      "source": [
        "import spacy\n",
        "spacy.__version__ #will be 3.1.0"
      ]
    },
    {
      "cell_type": "markdown",
      "metadata": {
        "id": "8dFRtweUVdBI"
      },
      "source": [
        "**Restart the runtime if on colab, sometimes necessary after installing models**"
      ]
    },
    {
      "cell_type": "code",
      "execution_count": null,
      "metadata": {
        "id": "yYN6jDNhdTTd"
      },
      "outputs": [],
      "source": [
        "from platform import python_version\n",
        "\n",
        "print(python_version()) #will be 3.10.5"
      ]
    },
    {
      "cell_type": "code",
      "execution_count": null,
      "metadata": {
        "id": "z1g2XnneVUc8"
      },
      "outputs": [],
      "source": [
        "import pandas as pd\n",
        "import numpy as np\n",
        "import seaborn as sns\n",
        "import json\n",
        "\n",
        "from matplotlib import pyplot as plt\n",
        "from medcat.cat import CAT\n",
        "from medcat.cdb import CDB\n",
        "from medcat.config import Config\n",
        "from medcat.vocab import Vocab\n",
        "from medcat.meta_cat import MetaCAT\n",
        "from medcat.preprocessing.tokenizers import TokenizerWrapperBPE\n",
        "from tokenizers import ByteLevelBPETokenizer\n",
        "\n",
        "from tqdm.autonotebook import tqdm, trange"
      ]
    },
    {
      "cell_type": "code",
      "execution_count": null,
      "metadata": {
        "id": "7dj2tqy5dTTe"
      },
      "outputs": [],
      "source": [
        "#jc - i want another model - snomed is snomed international doesnot have type id so try umls which includes snomed us and type id\n",
        "\n",
        "model_pack_path = \"models/mc_modelpack_snomed_int_16_mar_2022_25be3857ba34bdd5.zip\"\n",
        "#model_pack_path = \"models/umls_self_train_model_e6a3660d3ba19f52.zip\""
      ]
    },
    {
      "cell_type": "code",
      "execution_count": null,
      "metadata": {
        "id": "hbSB48yrVW10"
      },
      "outputs": [],
      "source": [
        "#skip this\n",
        "\n",
        "DATA_DIR = \"./data_p4.3/\"\n",
        "MODEL_DIR = \"./models/\"\n",
        "\n",
        "#model_pack_path = MODEL_DIR + \"medmen_wstatus_2021_oct.zip\"\n",
        "\n",
        "#jc - i want another model - snomed\n",
        "\n",
        "model_pack_path = \"models/mc_modelpack_snomed_int_16_mar_2022_25be3857ba34bdd5.zip\"\n",
        "#model_pack_path = \"models/umls_self_train_model_e6a3660d3ba19f52.zip\""
      ]
    },
    {
      "cell_type": "code",
      "execution_count": null,
      "metadata": {
        "id": "tKNfgaUedTTf"
      },
      "outputs": [],
      "source": [
        "MODEL_DIR = 'models/'"
      ]
    },
    {
      "cell_type": "code",
      "execution_count": null,
      "metadata": {
        "id": "cappkGozdTTf"
      },
      "outputs": [],
      "source": [
        "DATA_DIR = \"data_p4.3/\""
      ]
    },
    {
      "cell_type": "code",
      "execution_count": null,
      "metadata": {
        "id": "RFrfxnmXdTTf"
      },
      "outputs": [],
      "source": [
        "####################\n",
        "########SKIP########\n",
        "####################\n",
        "\n",
        "# Download the models and required data - this gives an error but still downloads the json file. Don't need data i.e. pt_notes.csv - download manually and save in folders\n",
        "\n",
        "# Download the models and required data\n",
        "#!wget https://raw.githubusercontent.com/CogStack/MedCATtutorials/main/notebooks/introductory/data/pt_notes.csv -P ./data/\n",
        "!wget https://raw.githubusercontent.com/CogStack/MedCATtutorials/main/notebooks/introductory/data/MedCAT_Export.json -P ./data/"
      ]
    },
    {
      "cell_type": "code",
      "execution_count": null,
      "metadata": {
        "id": "zn7unGgidTTf"
      },
      "outputs": [],
      "source": [
        "####################\n",
        "########SKIP########\n",
        "####################\n",
        "\n",
        "# Download the medcat modelpack - giving an error for snomed pack\n",
        "#!wget https://medcat.rosalind.kcl.ac.uk/media/medmen_wstatus_2021_oct.zip -P ./models/\n",
        "\n",
        "#why is this not working? do i need it? I have the files in the folder ie meta_status, cdb etc.\n",
        "#!wget https://medcat.rosalind.kcl.ac.uk/media/mc_modelpack_snomed_int_16_mar_2022_25be3857ba34bdd5.zip -P ./models/\n",
        "\n",
        "!wget https://medcat.rosalind.kcl.ac.uk/media/umls_self_train_model_e6a3660d3ba19f52.zip -P ./models/"
      ]
    },
    {
      "cell_type": "code",
      "execution_count": null,
      "metadata": {
        "id": "hWM07g5xatHO"
      },
      "outputs": [],
      "source": [
        "#this works even though the previous two cells gave errors\n",
        "\n",
        "# Load model pack and Create CAT - the main class from medcat used for concept annotation\n",
        "# Create the full pipeline with models for meta-annotations\n",
        "cat = CAT.load_model_pack(model_pack_path)"
      ]
    },
    {
      "cell_type": "code",
      "execution_count": null,
      "metadata": {
        "id": "bowCHf15dTTf"
      },
      "outputs": [],
      "source": [
        "#another useful ref - https://github.com/tomolopolis/SNOMED-CT_Analysis/blob/master/Exploring%20a%20SNOMED-CT%20Release.ipynb"
      ]
    },
    {
      "cell_type": "code",
      "execution_count": null,
      "metadata": {
        "id": "TvvCIyv0afMZ"
      },
      "outputs": [],
      "source": [
        "####################\n",
        "########SNOMED MODEL########\n",
        "####################\n",
        "\n",
        "# Detect only Disease and Mental Disorders\n",
        "# |T047|Disease or Syndrome\n",
        "# |T048|Mental or Behavioral Dysfunction\n",
        "\n",
        "#JC - try getting only body part structure type ID - SCTID: 52530000, TUI T-01000 Body Structure. T-02000\tClinical finding (finding).\n",
        "#TRY: Unique Identifier: T029 on umls model for anatomy - this is working with umls model\n",
        "#https://uts.nlm.nih.gov/uts/umls/semantic-network/T029\n",
        "#This is not working - doesn't recognise the type ID even when I use the medmen one or snomed ones\n",
        "#type_ids_filter = ['T047', 'T048']\n",
        "#type_ids_filter = ['T029'] #T029 for anatomy - works with umls model\n",
        "#type_ids_filter = ['67667581', '9090192'] #Try 67667581 for finding and 9090192 for disorder - works with snomed model\n",
        "type_ids_filter = ['37552161'] #body structure snomed\n",
        "cui_filters = set()\n",
        "for type_ids in type_ids_filter:\n",
        "    cui_filters.update(cat.cdb.addl_info['type_id2cuis'][type_ids])\n",
        "cat.cdb.config.linking['filters']['cuis'] = cui_filters"
      ]
    },
    {
      "cell_type": "markdown",
      "metadata": {
        "id": "GQLum5AIdTTg"
      },
      "source": [
        "A subset of type_ids for the MedCAT 1.2 model based on SNOMED-CT\n",
        "\n",
        "81102976  : organism  \n",
        "91187746  : substance\n",
        "28321150  : procedure\n",
        "37552161  : body structure\n",
        "9090192   : disorder  \n",
        "67667581  : finding   \n",
        "7882689   : qualifier value\n",
        "33782986  : morphologic abnormality\n",
        "32816260  : physical object\n",
        "91776366  : product   \n",
        "31601201  : person    \n",
        "75168589  : environment\n",
        "2680757   : observable entity\n",
        "43039974  : attribute\n",
        "82417248  : navigational concept\n",
        "13371933  : social concept\n",
        "337250    : specimen  \n",
        "90170645  : record artifact\n",
        "40357424  : foundation metadata concept\n",
        "29422548  : core metadata concept\n",
        "87776218  : role\n",
        "\n",
        "https://discourse.cogstack.org/t/using-type-ids-with-the-snomedct-model/165/2\n"
      ]
    },
    {
      "cell_type": "code",
      "execution_count": null,
      "metadata": {
        "id": "5ZtQXkLOp_wE"
      },
      "outputs": [],
      "source": [
        "####################\n",
        "########UMLS MODEL########\n",
        "####################\n",
        "\n",
        "# JC - Detect only Pain concepts - using Type IDs from gold standard - will have to manually look through and remove any unwanted ones- works umls model\n",
        "#if using snomed- try T-02000\tClinical finding (finding)\n",
        "\n",
        "type_ids_filter = ['T011',\n",
        "'T014',\n",
        "'T018',\n",
        "'T020',\n",
        "'T029',\n",
        "'T030',\n",
        "'T033',\n",
        "'T039',\n",
        "'T040',\n",
        "'T042',\n",
        "'T049']\n",
        "#t033 giving lot of vague terms like offering, engagement. It is semantic type Finding\n",
        "cui_filters = set()\n",
        "for type_ids in type_ids_filter:\n",
        "    cui_filters.update(cat.cdb.addl_info['type_id2cuis'][type_ids])\n",
        "cat.cdb.config.linking['filters']['cuis'] = cui_filters"
      ]
    },
    {
      "cell_type": "code",
      "execution_count": null,
      "metadata": {
        "id": "c486q-1ybHnB"
      },
      "outputs": [],
      "source": [
        "#!wget -N https://raw.githubusercontent.com/CogStack/MedCAT/master/tutorial/data/pt_notes.csv -P $DATA_DIR"
      ]
    },
    {
      "cell_type": "markdown",
      "metadata": {
        "id": "fD81Ymjpbxys"
      },
      "source": [
        "## Document annotation\n",
        "\n",
        "The following is a replica of the document annotation code done in [Part 3.2.](https://colab.research.google.com/drive/1q29RbHlZoFK7TcvMKITi3ABbE-E_fw30), with the only change that we have meta-annotations in the pipeline now."
      ]
    },
    {
      "cell_type": "code",
      "execution_count": null,
      "metadata": {
        "id": "ZwZZc6JEcHda"
      },
      "outputs": [],
      "source": [
        "####################\n",
        "########SKIP########\n",
        "####################\n",
        "\n",
        "# Load the data\n",
        "#data = pd.read_csv(DATA_DIR + \"pt_notes.csv\")\n",
        "#data.head()"
      ]
    },
    {
      "cell_type": "code",
      "execution_count": null,
      "metadata": {
        "id": "e__Ch10GdTTh"
      },
      "outputs": [],
      "source": [
        "#jc pain notes\n",
        "\n",
        "#data = pd.read_csv('classified_as_pain_sapbert_CE.csv')\n",
        "data = pd.read_csv('classified_as_anatomy_sapbert_CE.csv')"
      ]
    },
    {
      "cell_type": "code",
      "execution_count": null,
      "metadata": {
        "id": "qgGaqngfdTTh"
      },
      "outputs": [],
      "source": [
        "#jc\n",
        "data.head()"
      ]
    },
    {
      "cell_type": "code",
      "execution_count": null,
      "metadata": {
        "id": "nmYD6f5pdTTh"
      },
      "outputs": [],
      "source": [
        "data = data.drop(columns=['Unnamed: 0'])\n",
        "data.head()"
      ]
    },
    {
      "cell_type": "code",
      "execution_count": null,
      "metadata": {
        "id": "8Nw6WVwCOu8j"
      },
      "outputs": [],
      "source": [
        "#jc\n",
        "data.shape"
      ]
    },
    {
      "cell_type": "code",
      "execution_count": null,
      "metadata": {
        "id": "UDacaTxddTTh"
      },
      "outputs": [],
      "source": [
        "#split dataframe into batches of smaller dfs because it is taking too long to process the entire df\n",
        "\n",
        "#df2 = data[:2000]\n",
        "#df2 = data[2001:5000]\n",
        "#df2 = data[5001:8000]\n",
        "#df2 = data[8001:10000]\n",
        "#df2 = data[10001:20000]\n",
        "#df2 = data[20001:30000]\n",
        "##df2 = data[20001:50000]\n",
        "#df2 = data[30001:50000]\n",
        "#df2 = data[50001:80000]\n",
        "#df2 = data[80001:98940]\n",
        "#df2 = data[60001:70000]\n",
        "df2 = data[50001:65008]"
      ]
    },
    {
      "cell_type": "code",
      "execution_count": null,
      "metadata": {
        "id": "612KJyjsdTTh"
      },
      "outputs": [],
      "source": [
        "df2.describe()"
      ]
    },
    {
      "cell_type": "code",
      "execution_count": null,
      "metadata": {
        "id": "SOF_kDBvdTTi"
      },
      "outputs": [],
      "source": [
        "#another resource - https://colab.research.google.com/drive/1LL0EP_qN78ljs1PozaoiUDMaBo6zb4Gm\n",
        "#might help incorporate docid into the annotation - still not doing it?"
      ]
    },
    {
      "cell_type": "markdown",
      "metadata": {
        "id": "81-NBePSdTTi"
      },
      "source": [
        "for umls model:"
      ]
    },
    {
      "cell_type": "code",
      "execution_count": null,
      "metadata": {
        "id": "i9JCU8UmdTTi"
      },
      "outputs": [],
      "source": [
        "#testing to see if this includes cn_doc_id in results - this works with umls model\n",
        "in_data = []\n",
        "for CN_Doc_ID, row in df2[['CN_Doc_ID','clean_text']].iterrows():\n",
        "    text = row['clean_text']\n",
        "    CN_Doc_ID = row['CN_Doc_ID']\n",
        "\n",
        "    in_data.append((CN_Doc_ID, text))"
      ]
    },
    {
      "cell_type": "code",
      "execution_count": null,
      "metadata": {
        "id": "rV9Uyg99dTTi"
      },
      "outputs": [],
      "source": [
        "in_data #now it has doc id and text"
      ]
    },
    {
      "cell_type": "code",
      "execution_count": null,
      "metadata": {
        "id": "1B4RztZldTTi"
      },
      "outputs": [],
      "source": [
        "#testing to see if this includes cn_doc_id in results - now it should work - this works with umls model, not snomed\n",
        "\n",
        "# Set the batch size to the number of documents\n",
        "#batch_size = 100 # Batch size (BS) in number of documents\n",
        "batch_size_chars = 500000 # Batch size (BS) in number of characters\n",
        "\n",
        "# Run model - testing on few data first - remove [:x] for it to run on all of it\n",
        "results = cat.multiprocessing_pipe(in_data[:500], # Formatted data - use in_data[:200] or less to test on small sample- whole 65k is taking too long so try in batches of 1000 as shown below\n",
        "                                   batch_size = batch_size_chars, # change to batch_size = batch_size_chars if using that instead or keep batch_size=batch_size\n",
        "                                   nproc=8) # Increase it when having more cores available\n",
        "\n",
        "\n",
        "#in_data[:1000]"
      ]
    },
    {
      "cell_type": "markdown",
      "metadata": {
        "id": "drYNo1cldTTi"
      },
      "source": [
        "for snomed model:"
      ]
    },
    {
      "cell_type": "code",
      "execution_count": null,
      "metadata": {
        "id": "qJzpFSnOdTTi"
      },
      "outputs": [],
      "source": [
        "#jc - skip - use for snomed model - with docid\n",
        "# format the df to match: required input data for multiprocessing = [(doc_id, doc_text), (doc_id, doc_text), ...]\n",
        "def data_iterator(df2):\n",
        "    for CN_Doc_ID, row in df2[['CN_Doc_ID', 'clean_text']].iterrows():\n",
        "        text = row['clean_text']\n",
        "        CN_Doc_ID = row['CN_Doc_ID']\n",
        "        yield (CN_Doc_ID, str(row['clean_text']))"
      ]
    },
    {
      "cell_type": "code",
      "execution_count": null,
      "metadata": {
        "id": "HFQoR7QtdTTj"
      },
      "outputs": [],
      "source": [
        "#jc - skip - use for snomed model - without docid\n",
        "# format the df to match: required input data for multiprocessing = [(doc_id, doc_text), (doc_id, doc_text), ...]\n",
        "def data_iterator(df2):\n",
        "    for CN_Doc_ID, row in df2[['CN_Doc_ID', 'clean_text']].iterrows():\n",
        "        yield (CN_Doc_ID, str(row['clean_text']))"
      ]
    },
    {
      "cell_type": "code",
      "execution_count": null,
      "metadata": {
        "id": "ksIzKv2ibQe2"
      },
      "outputs": [],
      "source": [
        "#skip - use this for snomed model\n",
        "# Set a batch size to control for the variablity between document sizes\n",
        "batch_size_chars = 500000 # Batch size (BS) in number of characters\n",
        "\n",
        "# Run model\n",
        "results = cat.multiprocessing(data_iterator(df2),  # Formatted data\n",
        "                              batch_size_chars = batch_size_chars,\n",
        "                              nproc=8) # Number of processors"
      ]
    },
    {
      "cell_type": "markdown",
      "metadata": {
        "id": "c7hhJYF9dTTj"
      },
      "source": [
        "The rest is common for any model:"
      ]
    },
    {
      "cell_type": "code",
      "execution_count": null,
      "metadata": {
        "id": "LTo-MMIFbmQn"
      },
      "outputs": [],
      "source": [
        "# This will be a map from CUI to a list of documents where it appears: {\"cui\": [<doc_id>, <doc_id>, ...], ..}\n",
        "cui_location = {}\n",
        "# Let's also save the TUI location (semantic type)\n",
        "type_ids_location = {}"
      ]
    },
    {
      "cell_type": "code",
      "execution_count": null,
      "metadata": {
        "id": "MNErNGOLIOrS"
      },
      "outputs": [],
      "source": [
        "# Select only cui's with the Status Meta-annotation \"Affirmed\" and thier corresponding documents\n",
        "for doc in list(results.keys()):\n",
        "    for annotation in list(results[doc]['entities'].values()):\n",
        "        if annotation['cui'] in cui_location:\n",
        "            #if annotation['meta_anns']['Status']['value'] == 'Affirmed':\n",
        "            cui_location[annotation['cui']].append(doc)\n",
        "        else:\n",
        "            #if annotation['meta_anns']['Status']['value'] == 'Affirmed':\n",
        "            cui_location[annotation['cui']] = [doc]"
      ]
    },
    {
      "cell_type": "code",
      "execution_count": null,
      "metadata": {
        "id": "8-8IlDaBKKi4"
      },
      "outputs": [],
      "source": [
        "# For the type_ids and their corresponding documents\n",
        "# Remember that a cui may map to more than one type_ids (one to many mapping)\n",
        "for cui in cui_location.keys():\n",
        "    type_ids_location[list(cat.cdb.cui2type_ids[cui])[0]] = cui_location[cui]"
      ]
    },
    {
      "cell_type": "markdown",
      "metadata": {
        "id": "jn6Ay2abd1Ud"
      },
      "source": [
        "## Done\n",
        "\n",
        "We have now annotated all documents in our dataset and for each CUI (Concept identifier) we know in which document it appers. We also know that all the detected entities have the status \"Affirmed\".\n",
        "\n",
        "---\n",
        "\n",
        "Please note that the number of examples I have provided is not enough to fully train the \"Status\" meta-annotation and one would need to provide more."
      ]
    },
    {
      "cell_type": "code",
      "execution_count": null,
      "metadata": {
        "id": "xJ4-NFEjeslB"
      },
      "outputs": [],
      "source": [
        "####################\n",
        "########SKIP########\n",
        "####################\n",
        "\n",
        "# For example, the concept with CUI: C0020538 (hypertension) appears in\n",
        "set(cui_location['C1444648']) #C1444648 is code for 'offered'"
      ]
    },
    {
      "cell_type": "code",
      "execution_count": null,
      "metadata": {
        "id": "qfGq51rsAVur"
      },
      "outputs": [],
      "source": [
        "# Save concept location in corpus\n",
        "import json\n",
        "json.dump(cui_location, open(\"./cui_location_anatomy_25k_to_65k.json\", 'w'))"
      ]
    },
    {
      "cell_type": "code",
      "execution_count": null,
      "metadata": {
        "id": "-ynQfURPsZRL"
      },
      "outputs": [],
      "source": [
        "####################\n",
        "########SKIP########\n",
        "####################\n",
        "\n",
        "results #to be formatted like when downloading annotations maybe so it is readable in a csv - JC"
      ]
    },
    {
      "cell_type": "markdown",
      "metadata": {
        "id": "SHy_ojGkdTTl"
      },
      "source": [
        "example output format:\n",
        "\n",
        "{200: {'entities': {15: {'pretty_name': 'Right lower quadrant pain',\n",
        "    'cui': '301754002',\n",
        "    'type_ids': ['67667581'],\n",
        "    'types': ['finding'],\n",
        "    'source_value': 'abdominal pain (right lower quadrant',\n",
        "    'detected_name': 'abdominal~pain~right~lower~quadrant',\n",
        "    'acc': 1.0,\n",
        "    'context_similarity': 1.0,\n",
        "    'start': 185,\n",
        "    'end': 221,\n",
        "    'id': 15,\n",
        "    'meta_anns': {'Status': {'value': 'Affirmed',\n",
        "      'confidence': 0.9999881386756897,\n",
        "      'name': 'Status'}}},"
      ]
    },
    {
      "cell_type": "markdown",
      "metadata": {
        "id": "5fX7MjSnbsBi"
      },
      "source": [
        "End of tutorial"
      ]
    },
    {
      "cell_type": "code",
      "execution_count": null,
      "metadata": {
        "id": "N5-WHkLKdTTl"
      },
      "outputs": [],
      "source": [
        "####################\n",
        "########SKIP########\n",
        "####################\n",
        "\n",
        "results.keys()"
      ]
    },
    {
      "cell_type": "code",
      "execution_count": null,
      "metadata": {
        "id": "WVtQH0ENdTTl"
      },
      "outputs": [],
      "source": [
        "####################\n",
        "########SKIP########\n",
        "####################\n",
        "\n",
        "import pprint\n",
        "\n",
        "pprint.pprint(results, depth=3)"
      ]
    },
    {
      "cell_type": "code",
      "execution_count": null,
      "metadata": {
        "id": "Ctc4En6sdTTl"
      },
      "outputs": [],
      "source": [
        "#make csv of json"
      ]
    },
    {
      "cell_type": "code",
      "execution_count": null,
      "metadata": {
        "id": "81sS9g-QdTTl"
      },
      "outputs": [],
      "source": [
        "####################\n",
        "########SKIP########\n",
        "####################\n",
        "\n",
        "json.dump(results, open(\"./sctid_location_anatomy_with_details_50k_to_65k.json\", 'w'))"
      ]
    },
    {
      "cell_type": "code",
      "execution_count": null,
      "metadata": {
        "id": "kfKdlRtZdTTm"
      },
      "outputs": [],
      "source": [
        "annotation"
      ]
    },
    {
      "cell_type": "code",
      "execution_count": null,
      "metadata": {
        "id": "3sekpKzNdTTm"
      },
      "outputs": [],
      "source": [
        "doc"
      ]
    },
    {
      "cell_type": "code",
      "execution_count": null,
      "metadata": {
        "id": "cIZHLdLadTTm"
      },
      "outputs": [],
      "source": [
        "annos =[]\n",
        "\n",
        "for doc in list(results.keys()):\n",
        "    docid = doc\n",
        "    for annotation in list(results[doc]['entities'].values()):\n",
        "        if annotation['cui'] in cui_location:\n",
        "            #if annotation['meta_anns']['Status']['value'] == 'Affirmed':\n",
        "            cui = annotation['cui']\n",
        "            name = annotation['detected_name']\n",
        "            pretty_name = annotation['pretty_name']\n",
        "            type_id = annotation['type_ids']\n",
        "            id2 = annotation['id']\n",
        "            annos.append([docid, cui, name, pretty_name, type_id, id2])\n",
        "\n",
        "\n"
      ]
    },
    {
      "cell_type": "code",
      "execution_count": null,
      "metadata": {
        "id": "zMqwNJL8dTTp"
      },
      "outputs": [],
      "source": [
        "df_anno = pd.DataFrame(annos, columns=['docid','sctid','name', 'pretty_name', 'type_id', 'id2'])"
      ]
    },
    {
      "cell_type": "code",
      "execution_count": null,
      "metadata": {
        "id": "omZRHx6tdTTp"
      },
      "outputs": [],
      "source": [
        "df_anno.head()"
      ]
    },
    {
      "cell_type": "code",
      "execution_count": null,
      "metadata": {
        "id": "X_fdHjeNdTTp"
      },
      "outputs": [],
      "source": [
        "df_anno.to_csv('sctid_with_details_for_classified_anatomy_sent_medcat_50k_to_65k.csv')"
      ]
    },
    {
      "cell_type": "code",
      "execution_count": null,
      "metadata": {
        "id": "HJB0JMQ8dTTp"
      },
      "outputs": [],
      "source": []
    }
  ],
  "metadata": {
    "accelerator": "TPU",
    "colab": {
      "provenance": []
    },
    "kernelspec": {
      "display_name": "Python 3 (ipykernel)",
      "language": "python",
      "name": "python3"
    },
    "language_info": {
      "codemirror_mode": {
        "name": "ipython",
        "version": 3
      },
      "file_extension": ".py",
      "mimetype": "text/x-python",
      "name": "python",
      "nbconvert_exporter": "python",
      "pygments_lexer": "ipython3",
      "version": "3.10.5"
    },
    "vscode": {
      "interpreter": {
        "hash": "60954f76b319195d8b66f263176ecf047c3a086773bff2d42e03144b47421836"
      }
    }
  },
  "nbformat": 4,
  "nbformat_minor": 0
}